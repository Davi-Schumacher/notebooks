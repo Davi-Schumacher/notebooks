{
 "cells": [
  {
   "cell_type": "markdown",
   "metadata": {},
   "source": [
    "# Feature Engeneering for ride duration of taxi trips in New York City"
   ]
  },
  {
   "cell_type": "markdown",
   "metadata": {},
   "source": [
    "In this notebook we explore feature extraction to build a model that predicts the total ride duration of taxi trips in New York City. We are using data from a Kaggle competition (https://www.kaggle.com/c/nyc-taxi-trip-duration/)."
   ]
  },
  {
   "cell_type": "code",
   "execution_count": 1,
   "metadata": {},
   "outputs": [
    {
     "name": "stderr",
     "output_type": "stream",
     "text": [
      "/home/yinterian/anaconda/lib/python3.6/site-packages/sklearn/cross_validation.py:41: DeprecationWarning: This module was deprecated in version 0.18 in favor of the model_selection module into which all the refactored classes and functions are moved. Also note that the interface of the new CV iterators are different from that of this module. This module will be removed in 0.20.\n",
      "  \"This module will be removed in 0.20.\", DeprecationWarning)\n"
     ]
    }
   ],
   "source": [
    "%matplotlib inline\n",
    "import numpy as np \n",
    "import pandas as pd\n",
    "from datetime import timedelta\n",
    "import datetime as dt\n",
    "import matplotlib.pyplot as plt\n",
    "import xgboost as xgb\n",
    "from sklearn.cluster import MiniBatchKMeans\n",
    "import warnings"
   ]
  },
  {
   "cell_type": "code",
   "execution_count": 2,
   "metadata": {},
   "outputs": [],
   "source": [
    "plt.rcParams['figure.figsize'] = [13, 5]"
   ]
  },
  {
   "cell_type": "markdown",
   "metadata": {},
   "source": [
    "## Initail data exploration"
   ]
  },
  {
   "cell_type": "code",
   "execution_count": 3,
   "metadata": {},
   "outputs": [],
   "source": [
    "path = \"/data/yinterian/nyc-taxi-trip-duration/\""
   ]
  },
  {
   "cell_type": "code",
   "execution_count": 4,
   "metadata": {},
   "outputs": [],
   "source": [
    "train = pd.read_csv(path + 'train.csv')\n",
    "test = pd.read_csv(path + 'test.csv')"
   ]
  },
  {
   "cell_type": "code",
   "execution_count": 5,
   "metadata": {},
   "outputs": [
    {
     "data": {
      "text/plain": [
       "(1458644, 11)"
      ]
     },
     "execution_count": 5,
     "metadata": {},
     "output_type": "execute_result"
    }
   ],
   "source": [
    "train.shape"
   ]
  },
  {
   "cell_type": "code",
   "execution_count": 6,
   "metadata": {},
   "outputs": [
    {
     "data": {
      "text/html": [
       "<div>\n",
       "<style scoped>\n",
       "    .dataframe tbody tr th:only-of-type {\n",
       "        vertical-align: middle;\n",
       "    }\n",
       "\n",
       "    .dataframe tbody tr th {\n",
       "        vertical-align: top;\n",
       "    }\n",
       "\n",
       "    .dataframe thead th {\n",
       "        text-align: right;\n",
       "    }\n",
       "</style>\n",
       "<table border=\"1\" class=\"dataframe\">\n",
       "  <thead>\n",
       "    <tr style=\"text-align: right;\">\n",
       "      <th></th>\n",
       "      <th>id</th>\n",
       "      <th>vendor_id</th>\n",
       "      <th>pickup_datetime</th>\n",
       "      <th>dropoff_datetime</th>\n",
       "      <th>passenger_count</th>\n",
       "      <th>pickup_longitude</th>\n",
       "      <th>pickup_latitude</th>\n",
       "      <th>dropoff_longitude</th>\n",
       "      <th>dropoff_latitude</th>\n",
       "      <th>store_and_fwd_flag</th>\n",
       "      <th>trip_duration</th>\n",
       "    </tr>\n",
       "  </thead>\n",
       "  <tbody>\n",
       "    <tr>\n",
       "      <th>0</th>\n",
       "      <td>id2875421</td>\n",
       "      <td>2</td>\n",
       "      <td>2016-03-14 17:24:55</td>\n",
       "      <td>2016-03-14 17:32:30</td>\n",
       "      <td>1</td>\n",
       "      <td>-73.982155</td>\n",
       "      <td>40.767937</td>\n",
       "      <td>-73.964630</td>\n",
       "      <td>40.765602</td>\n",
       "      <td>N</td>\n",
       "      <td>455</td>\n",
       "    </tr>\n",
       "    <tr>\n",
       "      <th>1</th>\n",
       "      <td>id2377394</td>\n",
       "      <td>1</td>\n",
       "      <td>2016-06-12 00:43:35</td>\n",
       "      <td>2016-06-12 00:54:38</td>\n",
       "      <td>1</td>\n",
       "      <td>-73.980415</td>\n",
       "      <td>40.738564</td>\n",
       "      <td>-73.999481</td>\n",
       "      <td>40.731152</td>\n",
       "      <td>N</td>\n",
       "      <td>663</td>\n",
       "    </tr>\n",
       "    <tr>\n",
       "      <th>2</th>\n",
       "      <td>id3858529</td>\n",
       "      <td>2</td>\n",
       "      <td>2016-01-19 11:35:24</td>\n",
       "      <td>2016-01-19 12:10:48</td>\n",
       "      <td>1</td>\n",
       "      <td>-73.979027</td>\n",
       "      <td>40.763939</td>\n",
       "      <td>-74.005333</td>\n",
       "      <td>40.710087</td>\n",
       "      <td>N</td>\n",
       "      <td>2124</td>\n",
       "    </tr>\n",
       "    <tr>\n",
       "      <th>3</th>\n",
       "      <td>id3504673</td>\n",
       "      <td>2</td>\n",
       "      <td>2016-04-06 19:32:31</td>\n",
       "      <td>2016-04-06 19:39:40</td>\n",
       "      <td>1</td>\n",
       "      <td>-74.010040</td>\n",
       "      <td>40.719971</td>\n",
       "      <td>-74.012268</td>\n",
       "      <td>40.706718</td>\n",
       "      <td>N</td>\n",
       "      <td>429</td>\n",
       "    </tr>\n",
       "    <tr>\n",
       "      <th>4</th>\n",
       "      <td>id2181028</td>\n",
       "      <td>2</td>\n",
       "      <td>2016-03-26 13:30:55</td>\n",
       "      <td>2016-03-26 13:38:10</td>\n",
       "      <td>1</td>\n",
       "      <td>-73.973053</td>\n",
       "      <td>40.793209</td>\n",
       "      <td>-73.972923</td>\n",
       "      <td>40.782520</td>\n",
       "      <td>N</td>\n",
       "      <td>435</td>\n",
       "    </tr>\n",
       "  </tbody>\n",
       "</table>\n",
       "</div>"
      ],
      "text/plain": [
       "          id  vendor_id      pickup_datetime     dropoff_datetime  \\\n",
       "0  id2875421          2  2016-03-14 17:24:55  2016-03-14 17:32:30   \n",
       "1  id2377394          1  2016-06-12 00:43:35  2016-06-12 00:54:38   \n",
       "2  id3858529          2  2016-01-19 11:35:24  2016-01-19 12:10:48   \n",
       "3  id3504673          2  2016-04-06 19:32:31  2016-04-06 19:39:40   \n",
       "4  id2181028          2  2016-03-26 13:30:55  2016-03-26 13:38:10   \n",
       "\n",
       "   passenger_count  pickup_longitude  pickup_latitude  dropoff_longitude  \\\n",
       "0                1        -73.982155        40.767937         -73.964630   \n",
       "1                1        -73.980415        40.738564         -73.999481   \n",
       "2                1        -73.979027        40.763939         -74.005333   \n",
       "3                1        -74.010040        40.719971         -74.012268   \n",
       "4                1        -73.973053        40.793209         -73.972923   \n",
       "\n",
       "   dropoff_latitude store_and_fwd_flag  trip_duration  \n",
       "0         40.765602                  N            455  \n",
       "1         40.731152                  N            663  \n",
       "2         40.710087                  N           2124  \n",
       "3         40.706718                  N            429  \n",
       "4         40.782520                  N            435  "
      ]
     },
     "execution_count": 6,
     "metadata": {},
     "output_type": "execute_result"
    }
   ],
   "source": [
    "train.head()"
   ]
  },
  {
   "cell_type": "markdown",
   "metadata": {},
   "source": [
    "Data Description\n",
    "* id - a unique identifier for each trip\n",
    "* vendor_id - a code indicating the provider associated with the trip record\n",
    "* pickup_datetime - date and time when the meter was engaged\n",
    "* dropoff_datetime - date and time when the meter was disengaged\n",
    "* passenger_count - the number of passengers in the vehicle (driver entered value)\n",
    "* pickup_longitude - the longitude where the meter was engaged\n",
    "* pickup_latitude - the latitude where the meter was engaged\n",
    "* dropoff_longitude - the longitude where the meter was disengaged\n",
    "* dropoff_latitude - the latitude where the meter was disengaged\n",
    "* store_and_fwd_flag - This flag indicates whether the trip record was held in vehicle memory before sending to the vendor because the vehicle did not have a connection to the server (Y=store and forward; N=not a store and forward trip)\n",
    "* trip_duration - duration of the trip in seconds"
   ]
  },
  {
   "cell_type": "markdown",
   "metadata": {},
   "source": [
    "### Cleaning and transforming target variable"
   ]
  },
  {
   "cell_type": "code",
   "execution_count": 7,
   "metadata": {},
   "outputs": [
    {
     "data": {
      "image/png": "[encoded data removed]",
      "text/plain": [
       "<matplotlib.figure.Figure at 0x7f2ffe93bc50>"
      ]
     },
     "metadata": {},
     "output_type": "display_data"
    }
   ],
   "source": [
    "# let's look at the target variable\n",
    "plt.figure(figsize=(8,6))\n",
    "plt.scatter(range(train.shape[0]), np.sort(train[\"trip_duration\"].values/60), alpha=0.2)\n",
    "plt.xlabel('index', fontsize=12)\n",
    "plt.ylabel('trip_duration', fontsize=12)\n",
    "plt.show()"
   ]
  },
  {
   "cell_type": "code",
   "execution_count": 8,
   "metadata": {},
   "outputs": [
    {
     "data": {
      "text/plain": [
       "0.00          1.0\n",
       "0.01         87.0\n",
       "0.25        397.0\n",
       "0.50        662.0\n",
       "0.75       1075.0\n",
       "0.99       3440.0\n",
       "1.00    3526282.0\n",
       "Name: trip_duration, dtype: float64"
      ]
     },
     "execution_count": 8,
     "metadata": {},
     "output_type": "execute_result"
    }
   ],
   "source": [
    "# initial cleaning\n",
    "train[\"trip_duration\"].quantile([.0, 0.01, 0.25, .5, 0.75, 0.99, 1])"
   ]
  },
  {
   "cell_type": "code",
   "execution_count": 9,
   "metadata": {},
   "outputs": [
    {
     "name": "stdout",
     "output_type": "stream",
     "text": [
      "(1458644, 11)\n"
     ]
    }
   ],
   "source": [
    "# The 99 quantile is 57. 3 minutes \n",
    "# clipping trips logger than one hour  \n",
    "train.loc[train[\"trip_duration\"] > 60*60, \"trip_duration\"] = 60*60\n",
    "\n",
    "# clipping trips less that one minute  \n",
    "train.loc[train[\"trip_duration\"] < 60, \"trip_duration\"] = 60\n",
    "\n",
    "print(train.shape)"
   ]
  },
  {
   "cell_type": "code",
   "execution_count": 10,
   "metadata": {},
   "outputs": [
    {
     "data": {
      "image/png": "[encoded data removed]",
      "text/plain": [
       "<matplotlib.figure.Figure at 0x7f30167f7668>"
      ]
     },
     "metadata": {},
     "output_type": "display_data"
    }
   ],
   "source": [
    "plt.figure(figsize=(8,6))\n",
    "plt.scatter(range(train.shape[0]), np.sort(train[\"trip_duration\"].values/60), alpha=0.2)\n",
    "plt.xlabel('index', fontsize=12)\n",
    "plt.ylabel('trip duration', fontsize=12)\n",
    "plt.show()"
   ]
  },
  {
   "cell_type": "code",
   "execution_count": 11,
   "metadata": {},
   "outputs": [
    {
     "data": {
      "image/png": "[encoded data removed]",
      "text/plain": [
       "<matplotlib.figure.Figure at 0x7f30167f7978>"
      ]
     },
     "metadata": {},
     "output_type": "display_data"
    }
   ],
   "source": [
    "# It may be a good idea to transform the \"y\" variable\n",
    "# Look for a transformation that give you a plot closer to a normal\n",
    "train['log_trip_duration'] = np.log(train['trip_duration'].values)\n",
    "train['sqrt_trip_duration'] = np.sqrt(train['trip_duration'].values)\n",
    "fig, ax = plt.subplots(ncols=3, sharex=False, sharey=False)\n",
    "ax[0].hist(train['trip_duration'].values, bins=200)\n",
    "ax[1].hist(train['log_trip_duration'].values, bins=200)\n",
    "ax[2].hist(train['sqrt_trip_duration'].values, bins=200)\n",
    "ax[0].set_ylabel('number of records')\n",
    "ax[0].set_xlabel('trip_duration')\n",
    "ax[1].set_xlabel('log(trip_duration)')\n",
    "ax[2].set_xlabel('sqrt(trip_duration)')\n",
    "plt.show()"
   ]
  },
  {
   "cell_type": "markdown",
   "metadata": {},
   "source": [
    "## Distance & Speed"
   ]
  },
  {
   "cell_type": "code",
   "execution_count": 12,
   "metadata": {},
   "outputs": [],
   "source": [
    "train['pickup_datetime'] = pd.to_datetime(train.pickup_datetime)\n",
    "test['pickup_datetime'] = pd.to_datetime(test.pickup_datetime)"
   ]
  },
  {
   "cell_type": "code",
   "execution_count": 13,
   "metadata": {},
   "outputs": [
    {
     "data": {
      "text/html": [
       "<div>\n",
       "<style scoped>\n",
       "    .dataframe tbody tr th:only-of-type {\n",
       "        vertical-align: middle;\n",
       "    }\n",
       "\n",
       "    .dataframe tbody tr th {\n",
       "        vertical-align: top;\n",
       "    }\n",
       "\n",
       "    .dataframe thead th {\n",
       "        text-align: right;\n",
       "    }\n",
       "</style>\n",
       "<table border=\"1\" class=\"dataframe\">\n",
       "  <thead>\n",
       "    <tr style=\"text-align: right;\">\n",
       "      <th></th>\n",
       "      <th>id</th>\n",
       "      <th>vendor_id</th>\n",
       "      <th>pickup_datetime</th>\n",
       "      <th>dropoff_datetime</th>\n",
       "      <th>passenger_count</th>\n",
       "      <th>pickup_longitude</th>\n",
       "      <th>pickup_latitude</th>\n",
       "      <th>dropoff_longitude</th>\n",
       "      <th>dropoff_latitude</th>\n",
       "      <th>store_and_fwd_flag</th>\n",
       "      <th>trip_duration</th>\n",
       "      <th>log_trip_duration</th>\n",
       "      <th>sqrt_trip_duration</th>\n",
       "    </tr>\n",
       "  </thead>\n",
       "  <tbody>\n",
       "    <tr>\n",
       "      <th>0</th>\n",
       "      <td>id2875421</td>\n",
       "      <td>2</td>\n",
       "      <td>2016-03-14 17:24:55</td>\n",
       "      <td>2016-03-14 17:32:30</td>\n",
       "      <td>1</td>\n",
       "      <td>-73.982155</td>\n",
       "      <td>40.767937</td>\n",
       "      <td>-73.964630</td>\n",
       "      <td>40.765602</td>\n",
       "      <td>N</td>\n",
       "      <td>455</td>\n",
       "      <td>6.120297</td>\n",
       "      <td>21.330729</td>\n",
       "    </tr>\n",
       "    <tr>\n",
       "      <th>1</th>\n",
       "      <td>id2377394</td>\n",
       "      <td>1</td>\n",
       "      <td>2016-06-12 00:43:35</td>\n",
       "      <td>2016-06-12 00:54:38</td>\n",
       "      <td>1</td>\n",
       "      <td>-73.980415</td>\n",
       "      <td>40.738564</td>\n",
       "      <td>-73.999481</td>\n",
       "      <td>40.731152</td>\n",
       "      <td>N</td>\n",
       "      <td>663</td>\n",
       "      <td>6.496775</td>\n",
       "      <td>25.748786</td>\n",
       "    </tr>\n",
       "    <tr>\n",
       "      <th>2</th>\n",
       "      <td>id3858529</td>\n",
       "      <td>2</td>\n",
       "      <td>2016-01-19 11:35:24</td>\n",
       "      <td>2016-01-19 12:10:48</td>\n",
       "      <td>1</td>\n",
       "      <td>-73.979027</td>\n",
       "      <td>40.763939</td>\n",
       "      <td>-74.005333</td>\n",
       "      <td>40.710087</td>\n",
       "      <td>N</td>\n",
       "      <td>2124</td>\n",
       "      <td>7.661056</td>\n",
       "      <td>46.086874</td>\n",
       "    </tr>\n",
       "    <tr>\n",
       "      <th>3</th>\n",
       "      <td>id3504673</td>\n",
       "      <td>2</td>\n",
       "      <td>2016-04-06 19:32:31</td>\n",
       "      <td>2016-04-06 19:39:40</td>\n",
       "      <td>1</td>\n",
       "      <td>-74.010040</td>\n",
       "      <td>40.719971</td>\n",
       "      <td>-74.012268</td>\n",
       "      <td>40.706718</td>\n",
       "      <td>N</td>\n",
       "      <td>429</td>\n",
       "      <td>6.061457</td>\n",
       "      <td>20.712315</td>\n",
       "    </tr>\n",
       "    <tr>\n",
       "      <th>4</th>\n",
       "      <td>id2181028</td>\n",
       "      <td>2</td>\n",
       "      <td>2016-03-26 13:30:55</td>\n",
       "      <td>2016-03-26 13:38:10</td>\n",
       "      <td>1</td>\n",
       "      <td>-73.973053</td>\n",
       "      <td>40.793209</td>\n",
       "      <td>-73.972923</td>\n",
       "      <td>40.782520</td>\n",
       "      <td>N</td>\n",
       "      <td>435</td>\n",
       "      <td>6.075346</td>\n",
       "      <td>20.856654</td>\n",
       "    </tr>\n",
       "  </tbody>\n",
       "</table>\n",
       "</div>"
      ],
      "text/plain": [
       "          id  vendor_id     pickup_datetime     dropoff_datetime  \\\n",
       "0  id2875421          2 2016-03-14 17:24:55  2016-03-14 17:32:30   \n",
       "1  id2377394          1 2016-06-12 00:43:35  2016-06-12 00:54:38   \n",
       "2  id3858529          2 2016-01-19 11:35:24  2016-01-19 12:10:48   \n",
       "3  id3504673          2 2016-04-06 19:32:31  2016-04-06 19:39:40   \n",
       "4  id2181028          2 2016-03-26 13:30:55  2016-03-26 13:38:10   \n",
       "\n",
       "   passenger_count  pickup_longitude  pickup_latitude  dropoff_longitude  \\\n",
       "0                1        -73.982155        40.767937         -73.964630   \n",
       "1                1        -73.980415        40.738564         -73.999481   \n",
       "2                1        -73.979027        40.763939         -74.005333   \n",
       "3                1        -74.010040        40.719971         -74.012268   \n",
       "4                1        -73.973053        40.793209         -73.972923   \n",
       "\n",
       "   dropoff_latitude store_and_fwd_flag  trip_duration  log_trip_duration  \\\n",
       "0         40.765602                  N            455           6.120297   \n",
       "1         40.731152                  N            663           6.496775   \n",
       "2         40.710087                  N           2124           7.661056   \n",
       "3         40.706718                  N            429           6.061457   \n",
       "4         40.782520                  N            435           6.075346   \n",
       "\n",
       "   sqrt_trip_duration  \n",
       "0           21.330729  \n",
       "1           25.748786  \n",
       "2           46.086874  \n",
       "3           20.712315  \n",
       "4           20.856654  "
      ]
     },
     "execution_count": 13,
     "metadata": {},
     "output_type": "execute_result"
    }
   ],
   "source": [
    "train.head()"
   ]
  },
  {
   "cell_type": "code",
   "execution_count": 14,
   "metadata": {},
   "outputs": [],
   "source": [
    "# this formulas accepts nump arrays\n",
    "from math import radians, cos, sin, asin, sqrt\n",
    "\n",
    "def L2_distance(lon1, lat1, lon2, lat2):\n",
    "    \"\"\" Approximate distance\n",
    "    \"\"\"\n",
    "    dlon = (lon2 - lon1)**2 \n",
    "    dlat = (lat2 - lat1)**2\n",
    "    return 1000*np.sqrt(dlon + dlat)"
   ]
  },
  {
   "cell_type": "code",
   "execution_count": 15,
   "metadata": {},
   "outputs": [],
   "source": [
    "def compute_distance(df):\n",
    "    lon1 = df['pickup_longitude'].values\n",
    "    lat1 = df['pickup_latitude'].values\n",
    "    lon2 = df['dropoff_longitude'].values\n",
    "    lat2 = df['dropoff_latitude'].values\n",
    "    return L2_distance(lon1, lat1, lon2, lat2)"
   ]
  },
  {
   "cell_type": "code",
   "execution_count": 16,
   "metadata": {},
   "outputs": [],
   "source": [
    "train['distance'] = compute_distance(train)\n",
    "test['distance'] = compute_distance(test)"
   ]
  },
  {
   "cell_type": "code",
   "execution_count": 17,
   "metadata": {},
   "outputs": [
    {
     "data": {
      "text/html": [
       "<div>\n",
       "<style scoped>\n",
       "    .dataframe tbody tr th:only-of-type {\n",
       "        vertical-align: middle;\n",
       "    }\n",
       "\n",
       "    .dataframe tbody tr th {\n",
       "        vertical-align: top;\n",
       "    }\n",
       "\n",
       "    .dataframe thead th {\n",
       "        text-align: right;\n",
       "    }\n",
       "</style>\n",
       "<table border=\"1\" class=\"dataframe\">\n",
       "  <thead>\n",
       "    <tr style=\"text-align: right;\">\n",
       "      <th></th>\n",
       "      <th>vendor_id</th>\n",
       "      <th>passenger_count</th>\n",
       "      <th>pickup_longitude</th>\n",
       "      <th>pickup_latitude</th>\n",
       "      <th>dropoff_longitude</th>\n",
       "      <th>dropoff_latitude</th>\n",
       "      <th>trip_duration</th>\n",
       "      <th>log_trip_duration</th>\n",
       "      <th>sqrt_trip_duration</th>\n",
       "      <th>distance</th>\n",
       "    </tr>\n",
       "  </thead>\n",
       "  <tbody>\n",
       "    <tr>\n",
       "      <th>count</th>\n",
       "      <td>1.458644e+06</td>\n",
       "      <td>1.458644e+06</td>\n",
       "      <td>1.458644e+06</td>\n",
       "      <td>1.458644e+06</td>\n",
       "      <td>1.458644e+06</td>\n",
       "      <td>1.458644e+06</td>\n",
       "      <td>1.458644e+06</td>\n",
       "      <td>1.458644e+06</td>\n",
       "      <td>1.458644e+06</td>\n",
       "      <td>1.458644e+06</td>\n",
       "    </tr>\n",
       "    <tr>\n",
       "      <th>mean</th>\n",
       "      <td>1.534950e+00</td>\n",
       "      <td>1.664530e+00</td>\n",
       "      <td>-7.397349e+01</td>\n",
       "      <td>4.075092e+01</td>\n",
       "      <td>-7.397342e+01</td>\n",
       "      <td>4.075180e+01</td>\n",
       "      <td>8.354563e+02</td>\n",
       "      <td>6.465324e+00</td>\n",
       "      <td>2.712671e+01</td>\n",
       "      <td>3.548232e+01</td>\n",
       "    </tr>\n",
       "    <tr>\n",
       "      <th>std</th>\n",
       "      <td>4.987772e-01</td>\n",
       "      <td>1.314242e+00</td>\n",
       "      <td>7.090186e-02</td>\n",
       "      <td>3.288119e-02</td>\n",
       "      <td>7.064327e-02</td>\n",
       "      <td>3.589056e-02</td>\n",
       "      <td>6.356312e+02</td>\n",
       "      <td>7.494093e-01</td>\n",
       "      <td>9.979872e+00</td>\n",
       "      <td>4.596807e+01</td>\n",
       "    </tr>\n",
       "    <tr>\n",
       "      <th>min</th>\n",
       "      <td>1.000000e+00</td>\n",
       "      <td>0.000000e+00</td>\n",
       "      <td>-1.219333e+02</td>\n",
       "      <td>3.435970e+01</td>\n",
       "      <td>-1.219333e+02</td>\n",
       "      <td>3.218114e+01</td>\n",
       "      <td>6.000000e+01</td>\n",
       "      <td>4.094345e+00</td>\n",
       "      <td>7.745967e+00</td>\n",
       "      <td>0.000000e+00</td>\n",
       "    </tr>\n",
       "    <tr>\n",
       "      <th>25%</th>\n",
       "      <td>1.000000e+00</td>\n",
       "      <td>1.000000e+00</td>\n",
       "      <td>-7.399187e+01</td>\n",
       "      <td>4.073735e+01</td>\n",
       "      <td>-7.399133e+01</td>\n",
       "      <td>4.073588e+01</td>\n",
       "      <td>3.970000e+02</td>\n",
       "      <td>5.983936e+00</td>\n",
       "      <td>1.992486e+01</td>\n",
       "      <td>1.258443e+01</td>\n",
       "    </tr>\n",
       "    <tr>\n",
       "      <th>50%</th>\n",
       "      <td>2.000000e+00</td>\n",
       "      <td>1.000000e+00</td>\n",
       "      <td>-7.398174e+01</td>\n",
       "      <td>4.075410e+01</td>\n",
       "      <td>-7.397975e+01</td>\n",
       "      <td>4.075452e+01</td>\n",
       "      <td>6.620000e+02</td>\n",
       "      <td>6.495266e+00</td>\n",
       "      <td>2.572936e+01</td>\n",
       "      <td>2.121671e+01</td>\n",
       "    </tr>\n",
       "    <tr>\n",
       "      <th>75%</th>\n",
       "      <td>2.000000e+00</td>\n",
       "      <td>2.000000e+00</td>\n",
       "      <td>-7.396733e+01</td>\n",
       "      <td>4.076836e+01</td>\n",
       "      <td>-7.396301e+01</td>\n",
       "      <td>4.076981e+01</td>\n",
       "      <td>1.075000e+03</td>\n",
       "      <td>6.980076e+00</td>\n",
       "      <td>3.278719e+01</td>\n",
       "      <td>3.840884e+01</td>\n",
       "    </tr>\n",
       "    <tr>\n",
       "      <th>max</th>\n",
       "      <td>2.000000e+00</td>\n",
       "      <td>9.000000e+00</td>\n",
       "      <td>-6.133553e+01</td>\n",
       "      <td>5.188108e+01</td>\n",
       "      <td>-6.133553e+01</td>\n",
       "      <td>4.392103e+01</td>\n",
       "      <td>3.600000e+03</td>\n",
       "      <td>8.188689e+00</td>\n",
       "      <td>6.000000e+01</td>\n",
       "      <td>1.119260e+04</td>\n",
       "    </tr>\n",
       "  </tbody>\n",
       "</table>\n",
       "</div>"
      ],
      "text/plain": [
       "          vendor_id  passenger_count  pickup_longitude  pickup_latitude  \\\n",
       "count  1.458644e+06     1.458644e+06      1.458644e+06     1.458644e+06   \n",
       "mean   1.534950e+00     1.664530e+00     -7.397349e+01     4.075092e+01   \n",
       "std    4.987772e-01     1.314242e+00      7.090186e-02     3.288119e-02   \n",
       "min    1.000000e+00     0.000000e+00     -1.219333e+02     3.435970e+01   \n",
       "25%    1.000000e+00     1.000000e+00     -7.399187e+01     4.073735e+01   \n",
       "50%    2.000000e+00     1.000000e+00     -7.398174e+01     4.075410e+01   \n",
       "75%    2.000000e+00     2.000000e+00     -7.396733e+01     4.076836e+01   \n",
       "max    2.000000e+00     9.000000e+00     -6.133553e+01     5.188108e+01   \n",
       "\n",
       "       dropoff_longitude  dropoff_latitude  trip_duration  log_trip_duration  \\\n",
       "count       1.458644e+06      1.458644e+06   1.458644e+06       1.458644e+06   \n",
       "mean       -7.397342e+01      4.075180e+01   8.354563e+02       6.465324e+00   \n",
       "std         7.064327e-02      3.589056e-02   6.356312e+02       7.494093e-01   \n",
       "min        -1.219333e+02      3.218114e+01   6.000000e+01       4.094345e+00   \n",
       "25%        -7.399133e+01      4.073588e+01   3.970000e+02       5.983936e+00   \n",
       "50%        -7.397975e+01      4.075452e+01   6.620000e+02       6.495266e+00   \n",
       "75%        -7.396301e+01      4.076981e+01   1.075000e+03       6.980076e+00   \n",
       "max        -6.133553e+01      4.392103e+01   3.600000e+03       8.188689e+00   \n",
       "\n",
       "       sqrt_trip_duration      distance  \n",
       "count        1.458644e+06  1.458644e+06  \n",
       "mean         2.712671e+01  3.548232e+01  \n",
       "std          9.979872e+00  4.596807e+01  \n",
       "min          7.745967e+00  0.000000e+00  \n",
       "25%          1.992486e+01  1.258443e+01  \n",
       "50%          2.572936e+01  2.121671e+01  \n",
       "75%          3.278719e+01  3.840884e+01  \n",
       "max          6.000000e+01  1.119260e+04  "
      ]
     },
     "execution_count": 17,
     "metadata": {},
     "output_type": "execute_result"
    }
   ],
   "source": [
    "train.describe()"
   ]
  },
  {
   "cell_type": "code",
   "execution_count": 18,
   "metadata": {},
   "outputs": [
    {
     "data": {
      "image/png": "[encoded data removed]",
      "text/plain": [
       "<matplotlib.figure.Figure at 0x7f2ffd6fc780>"
      ]
     },
     "metadata": {},
     "output_type": "display_data"
    },
    {
     "data": {
      "text/plain": [
       "array([[1.        , 0.73845563],\n",
       "       [0.73845563, 1.        ]])"
      ]
     },
     "execution_count": 18,
     "metadata": {},
     "output_type": "execute_result"
    }
   ],
   "source": [
    "y = train['trip_duration'][:2000]/60\n",
    "x = train['distance'][:2000]\n",
    "plt.scatter(x, y, alpha=0.2)\n",
    "plt.xlabel('trip_duration')\n",
    "plt.ylabel('distance')\n",
    "plt.show()\n",
    "np.corrcoef(x,y)"
   ]
  },
  {
   "cell_type": "code",
   "execution_count": 19,
   "metadata": {},
   "outputs": [],
   "source": [
    "# ?miles an hour\n",
    "train[\"speed\"] = train[\"distance\"]/ (train[\"trip_duration\"] / 360.0)"
   ]
  },
  {
   "cell_type": "markdown",
   "metadata": {},
   "source": [
    "Note that 'speed' is not a feature since it needs trip duration which is the target variable.\n",
    "We are using it just as part of our exploration"
   ]
  },
  {
   "cell_type": "code",
   "execution_count": 20,
   "metadata": {},
   "outputs": [
    {
     "data": {
      "image/png": "[encoded data removed]",
      "text/plain": [
       "<matplotlib.figure.Figure at 0x7f2ffd9fac18>"
      ]
     },
     "metadata": {},
     "output_type": "display_data"
    }
   ],
   "source": [
    "plt.boxplot(train['speed'])\n",
    "plt.show()"
   ]
  },
  {
   "cell_type": "code",
   "execution_count": 21,
   "metadata": {},
   "outputs": [
    {
     "data": {
      "image/png": "[encoded data removed]",
      "text/plain": [
       "<matplotlib.figure.Figure at 0x7f2ffd6fcb00>"
      ]
     },
     "metadata": {},
     "output_type": "display_data"
    }
   ],
   "source": [
    "tmp = train[train['speed'] > 60]\n",
    "y = tmp['trip_duration']/60\n",
    "x = tmp['distance']\n",
    "plt.scatter(x, y, alpha=0.2)\n",
    "plt.xlabel('trip duration')\n",
    "plt.ylabel('distance')\n",
    "plt.show()"
   ]
  },
  {
   "cell_type": "code",
   "execution_count": 22,
   "metadata": {},
   "outputs": [
    {
     "data": {
      "text/plain": [
       "0.000       0.000000\n",
       "0.250       9.276128\n",
       "0.500      12.943377\n",
       "0.750      18.009364\n",
       "0.999      55.959545\n",
       "1.000    6749.747037\n",
       "Name: speed, dtype: float64"
      ]
     },
     "execution_count": 22,
     "metadata": {},
     "output_type": "execute_result"
    }
   ],
   "source": [
    "# some more clipping here\n",
    "train['speed'].quantile([.0, 0.25, .5, 0.75, 0.999, 1])"
   ]
  },
  {
   "cell_type": "code",
   "execution_count": 23,
   "metadata": {},
   "outputs": [],
   "source": [
    "ind = train['speed'] > 60\n",
    "v = train.loc[ind, 'distance']/60"
   ]
  },
  {
   "cell_type": "code",
   "execution_count": 24,
   "metadata": {},
   "outputs": [],
   "source": [
    "train.loc[ind, \"trip_duration\"] = v"
   ]
  },
  {
   "cell_type": "code",
   "execution_count": 25,
   "metadata": {},
   "outputs": [
    {
     "data": {
      "text/plain": [
       "(1458644, 15)"
      ]
     },
     "execution_count": 25,
     "metadata": {},
     "output_type": "execute_result"
    }
   ],
   "source": [
    "train.shape"
   ]
  },
  {
   "cell_type": "markdown",
   "metadata": {},
   "source": [
    "## Time features"
   ]
  },
  {
   "cell_type": "markdown",
   "metadata": {},
   "source": [
    "We will define some time features. By plotting every feature agains the \"trip_duration\" or \"speed\" we will be able to see if there is any useful correlations. "
   ]
  },
  {
   "cell_type": "code",
   "execution_count": 26,
   "metadata": {},
   "outputs": [],
   "source": [
    "def get_time_features(df):\n",
    "    df['pickup_weekday'] = df['pickup_datetime'].dt.weekday\n",
    "    df['pickup_weekofyear'] = df['pickup_datetime'].dt.weekofyear\n",
    "    df['pickup_hour'] = df['pickup_datetime'].dt.hour\n",
    "    df['pickup_week_hour'] = df['pickup_weekday'] * 24 + df['pickup_hour']\n",
    "    return df"
   ]
  },
  {
   "cell_type": "code",
   "execution_count": 27,
   "metadata": {},
   "outputs": [],
   "source": [
    "train = get_time_features(train)\n",
    "test = get_time_features(test)"
   ]
  },
  {
   "cell_type": "code",
   "execution_count": 28,
   "metadata": {},
   "outputs": [
    {
     "data": {
      "text/plain": [
       "<matplotlib.axes._subplots.AxesSubplot at 0x7f3000ff27b8>"
      ]
     },
     "execution_count": 28,
     "metadata": {},
     "output_type": "execute_result"
    },
    {
     "data": {
      "image/png": "[encoded data removed]",
      "text/plain": [
       "<matplotlib.figure.Figure at 0x7f2fff23eac8>"
      ]
     },
     "metadata": {},
     "output_type": "display_data"
    }
   ],
   "source": [
    "tmp = train[train['speed'] < 60]\n",
    "metric = 'pickup_hour'\n",
    "y = 'speed'\n",
    "tmp.boxplot(column=y, by=[metric])"
   ]
  },
  {
   "cell_type": "markdown",
   "metadata": {},
   "source": [
    "Looks like speed is lower in the middle of the day which makes pickup hour a likely useful feature.\n",
    "\n",
    "Plot other features. Do they seem useful?"
   ]
  },
  {
   "cell_type": "markdown",
   "metadata": {
    "collapsed": true
   },
   "source": [
    "## Clustering based on lat and long"
   ]
  },
  {
   "cell_type": "code",
   "execution_count": 29,
   "metadata": {},
   "outputs": [],
   "source": [
    "places = np.vstack((train[['pickup_latitude', 'pickup_longitude']].values,\n",
    "                    train[['dropoff_latitude', 'dropoff_longitude']].values))"
   ]
  },
  {
   "cell_type": "code",
   "execution_count": 30,
   "metadata": {},
   "outputs": [
    {
     "data": {
      "text/plain": [
       "(2917288, 2)"
      ]
     },
     "execution_count": 30,
     "metadata": {},
     "output_type": "execute_result"
    }
   ],
   "source": [
    "places.shape"
   ]
  },
  {
   "cell_type": "code",
   "execution_count": 31,
   "metadata": {},
   "outputs": [],
   "source": [
    "kmeans = MiniBatchKMeans(n_clusters=100, batch_size=10000).fit(places)"
   ]
  },
  {
   "cell_type": "code",
   "execution_count": 32,
   "metadata": {},
   "outputs": [],
   "source": [
    "# here the new features is the id of the cluster\n",
    "# here the new features is the id of the cluster\n",
    "train['pickup_cluster'] = kmeans.predict(train[['pickup_latitude', 'pickup_longitude']])\n",
    "train['dropoff_cluster'] = kmeans.predict(train[['dropoff_latitude', 'dropoff_longitude']])\n",
    "test['pickup_cluster'] = kmeans.predict(test[['pickup_latitude', 'pickup_longitude']])\n",
    "test['dropoff_cluster'] = kmeans.predict(test[['dropoff_latitude', 'dropoff_longitude']])"
   ]
  },
  {
   "cell_type": "code",
   "execution_count": 33,
   "metadata": {},
   "outputs": [
    {
     "data": {
      "image/png": "[encoded data removed]",
      "text/plain": [
       "<matplotlib.figure.Figure at 0x7f304c27bcc0>"
      ]
     },
     "metadata": {},
     "output_type": "display_data"
    }
   ],
   "source": [
    "N = 100000\n",
    "city_long_border = (-74.03, -73.75)\n",
    "city_lat_border = (40.63, 40.85)\n",
    "fig, ax = plt.subplots(ncols=1, nrows=1)\n",
    "ax.scatter(train.pickup_longitude.values[:N], train.pickup_latitude.values[:N], s=10, lw=0,\n",
    "           c=train.pickup_cluster[:N].values, cmap='tab20', alpha=0.2)\n",
    "ax.set_xlim(city_long_border)\n",
    "ax.set_ylim(city_lat_border)\n",
    "ax.set_xlabel('Longitude')\n",
    "ax.set_ylabel('Latitude')\n",
    "plt.show()\n",
    "#There are some weird outliers here"
   ]
  },
  {
   "cell_type": "markdown",
   "metadata": {},
   "source": [
    "## Split train and validation"
   ]
  },
  {
   "cell_type": "code",
   "execution_count": 34,
   "metadata": {},
   "outputs": [
    {
     "name": "stdout",
     "output_type": "stream",
     "text": [
      "(1165908, 21) (292736, 21)\n"
     ]
    }
   ],
   "source": [
    "# split train and validation\n",
    "np.random.seed(3)\n",
    "msk = np.random.rand(len(train)) < 0.8\n",
    "train_set = train[msk].copy()\n",
    "val_set = train[~msk].copy()\n",
    "print(train_set.shape, val_set.shape)"
   ]
  },
  {
   "cell_type": "markdown",
   "metadata": {},
   "source": [
    "## Target Encoding (naive version)"
   ]
  },
  {
   "cell_type": "markdown",
   "metadata": {},
   "source": [
    "Here is an example of what is called 'Target Encoding'. The idea here is given a categorical variable, create a new variable that is the mean each categorical value variable in the training data. This is a naive version of target encoding. We will discuss a better version next class.\n",
    "\n",
    "Note that I divided the train and validation sets before doing this. Since the computation of these involve the target variable, we do it in the training and transfer it to the test/ validation sets."
   ]
  },
  {
   "cell_type": "code",
   "execution_count": 35,
   "metadata": {},
   "outputs": [
    {
     "data": {
      "text/html": [
       "<div>\n",
       "<style scoped>\n",
       "    .dataframe tbody tr th:only-of-type {\n",
       "        vertical-align: middle;\n",
       "    }\n",
       "\n",
       "    .dataframe tbody tr th {\n",
       "        vertical-align: top;\n",
       "    }\n",
       "\n",
       "    .dataframe thead th {\n",
       "        text-align: right;\n",
       "    }\n",
       "</style>\n",
       "<table border=\"1\" class=\"dataframe\">\n",
       "  <thead>\n",
       "    <tr style=\"text-align: right;\">\n",
       "      <th></th>\n",
       "      <th>speed_gby_pickup_weekday</th>\n",
       "      <th>log_trip_duration_gby_pickup_weekday</th>\n",
       "    </tr>\n",
       "    <tr>\n",
       "      <th>pickup_weekday</th>\n",
       "      <th></th>\n",
       "      <th></th>\n",
       "    </tr>\n",
       "  </thead>\n",
       "  <tbody>\n",
       "    <tr>\n",
       "      <th>0</th>\n",
       "      <td>15.391604</td>\n",
       "      <td>6.426236</td>\n",
       "    </tr>\n",
       "    <tr>\n",
       "      <th>1</th>\n",
       "      <td>13.965800</td>\n",
       "      <td>6.489996</td>\n",
       "    </tr>\n",
       "    <tr>\n",
       "      <th>2</th>\n",
       "      <td>13.740403</td>\n",
       "      <td>6.511811</td>\n",
       "    </tr>\n",
       "    <tr>\n",
       "      <th>3</th>\n",
       "      <td>13.672504</td>\n",
       "      <td>6.526877</td>\n",
       "    </tr>\n",
       "    <tr>\n",
       "      <th>4</th>\n",
       "      <td>13.963899</td>\n",
       "      <td>6.497713</td>\n",
       "    </tr>\n",
       "    <tr>\n",
       "      <th>5</th>\n",
       "      <td>15.167796</td>\n",
       "      <td>6.415824</td>\n",
       "    </tr>\n",
       "    <tr>\n",
       "      <th>6</th>\n",
       "      <td>16.935512</td>\n",
       "      <td>6.374934</td>\n",
       "    </tr>\n",
       "  </tbody>\n",
       "</table>\n",
       "</div>"
      ],
      "text/plain": [
       "                speed_gby_pickup_weekday  log_trip_duration_gby_pickup_weekday\n",
       "pickup_weekday                                                                \n",
       "0                              15.391604                              6.426236\n",
       "1                              13.965800                              6.489996\n",
       "2                              13.740403                              6.511811\n",
       "3                              13.672504                              6.526877\n",
       "4                              13.963899                              6.497713\n",
       "5                              15.167796                              6.415824\n",
       "6                              16.935512                              6.374934"
      ]
     },
     "execution_count": 35,
     "metadata": {},
     "output_type": "execute_result"
    }
   ],
   "source": [
    "col = 'pickup_weekday'\n",
    "gby = train_set.groupby(col).mean()[['speed', 'log_trip_duration']]\n",
    "gby.columns = ['%s_gby_%s' % (c, col) for c in gby.columns]\n",
    "gby"
   ]
  },
  {
   "cell_type": "code",
   "execution_count": 36,
   "metadata": {},
   "outputs": [],
   "source": [
    "for col in ['pickup_weekday', 'pickup_weekofyear', 'pickup_hour',\n",
    "       'pickup_week_hour', 'pickup_cluster', 'dropoff_cluster']:\n",
    "    gby = train_set.groupby(col).mean()[['speed', 'log_trip_duration']]\n",
    "    gby.columns = ['%s_gby_%s' % (c, col) for c in gby.columns]\n",
    "    train_set = pd.merge(train_set, gby, how='left', left_on=col, right_index=True)\n",
    "    val_set = pd.merge(val_set, gby, how='left', left_on=col, right_index=True)\n",
    "    test = pd.merge(test, gby, how='left', left_on=col, right_index=True)"
   ]
  },
  {
   "cell_type": "code",
   "execution_count": 37,
   "metadata": {},
   "outputs": [
    {
     "data": {
      "text/html": [
       "<div>\n",
       "<style scoped>\n",
       "    .dataframe tbody tr th:only-of-type {\n",
       "        vertical-align: middle;\n",
       "    }\n",
       "\n",
       "    .dataframe tbody tr th {\n",
       "        vertical-align: top;\n",
       "    }\n",
       "\n",
       "    .dataframe thead th {\n",
       "        text-align: right;\n",
       "    }\n",
       "</style>\n",
       "<table border=\"1\" class=\"dataframe\">\n",
       "  <thead>\n",
       "    <tr style=\"text-align: right;\">\n",
       "      <th></th>\n",
       "      <th>id</th>\n",
       "      <th>vendor_id</th>\n",
       "      <th>pickup_datetime</th>\n",
       "      <th>dropoff_datetime</th>\n",
       "      <th>passenger_count</th>\n",
       "      <th>pickup_longitude</th>\n",
       "      <th>pickup_latitude</th>\n",
       "      <th>dropoff_longitude</th>\n",
       "      <th>dropoff_latitude</th>\n",
       "      <th>store_and_fwd_flag</th>\n",
       "      <th>...</th>\n",
       "      <th>speed_gby_pickup_weekofyear</th>\n",
       "      <th>log_trip_duration_gby_pickup_weekofyear</th>\n",
       "      <th>speed_gby_pickup_hour</th>\n",
       "      <th>log_trip_duration_gby_pickup_hour</th>\n",
       "      <th>speed_gby_pickup_week_hour</th>\n",
       "      <th>log_trip_duration_gby_pickup_week_hour</th>\n",
       "      <th>speed_gby_pickup_cluster</th>\n",
       "      <th>log_trip_duration_gby_pickup_cluster</th>\n",
       "      <th>speed_gby_dropoff_cluster</th>\n",
       "      <th>log_trip_duration_gby_dropoff_cluster</th>\n",
       "    </tr>\n",
       "  </thead>\n",
       "  <tbody>\n",
       "    <tr>\n",
       "      <th>0</th>\n",
       "      <td>id2875421</td>\n",
       "      <td>2</td>\n",
       "      <td>2016-03-14 17:24:55</td>\n",
       "      <td>2016-03-14 17:32:30</td>\n",
       "      <td>1</td>\n",
       "      <td>-73.982155</td>\n",
       "      <td>40.767937</td>\n",
       "      <td>-73.964630</td>\n",
       "      <td>40.765602</td>\n",
       "      <td>N</td>\n",
       "      <td>...</td>\n",
       "      <td>14.699380</td>\n",
       "      <td>6.455396</td>\n",
       "      <td>12.686733</td>\n",
       "      <td>6.536486</td>\n",
       "      <td>13.234056</td>\n",
       "      <td>6.470105</td>\n",
       "      <td>13.235139</td>\n",
       "      <td>6.423900</td>\n",
       "      <td>12.683357</td>\n",
       "      <td>6.315758</td>\n",
       "    </tr>\n",
       "    <tr>\n",
       "      <th>1</th>\n",
       "      <td>id2377394</td>\n",
       "      <td>1</td>\n",
       "      <td>2016-06-12 00:43:35</td>\n",
       "      <td>2016-06-12 00:54:38</td>\n",
       "      <td>1</td>\n",
       "      <td>-73.980415</td>\n",
       "      <td>40.738564</td>\n",
       "      <td>-73.999481</td>\n",
       "      <td>40.731152</td>\n",
       "      <td>N</td>\n",
       "      <td>...</td>\n",
       "      <td>14.239944</td>\n",
       "      <td>6.529787</td>\n",
       "      <td>17.865169</td>\n",
       "      <td>6.420345</td>\n",
       "      <td>15.697268</td>\n",
       "      <td>6.464233</td>\n",
       "      <td>13.844869</td>\n",
       "      <td>6.335090</td>\n",
       "      <td>13.052158</td>\n",
       "      <td>6.342977</td>\n",
       "    </tr>\n",
       "    <tr>\n",
       "      <th>2</th>\n",
       "      <td>id3858529</td>\n",
       "      <td>2</td>\n",
       "      <td>2016-01-19 11:35:24</td>\n",
       "      <td>2016-01-19 12:10:48</td>\n",
       "      <td>1</td>\n",
       "      <td>-73.979027</td>\n",
       "      <td>40.763939</td>\n",
       "      <td>-74.005333</td>\n",
       "      <td>40.710087</td>\n",
       "      <td>N</td>\n",
       "      <td>...</td>\n",
       "      <td>14.556325</td>\n",
       "      <td>6.425675</td>\n",
       "      <td>12.624685</td>\n",
       "      <td>6.522413</td>\n",
       "      <td>10.966625</td>\n",
       "      <td>6.639628</td>\n",
       "      <td>12.578215</td>\n",
       "      <td>6.556728</td>\n",
       "      <td>15.194384</td>\n",
       "      <td>6.641250</td>\n",
       "    </tr>\n",
       "    <tr>\n",
       "      <th>3</th>\n",
       "      <td>id3504673</td>\n",
       "      <td>2</td>\n",
       "      <td>2016-04-06 19:32:31</td>\n",
       "      <td>2016-04-06 19:39:40</td>\n",
       "      <td>1</td>\n",
       "      <td>-74.010040</td>\n",
       "      <td>40.719971</td>\n",
       "      <td>-74.012268</td>\n",
       "      <td>40.706718</td>\n",
       "      <td>N</td>\n",
       "      <td>...</td>\n",
       "      <td>14.298784</td>\n",
       "      <td>6.466657</td>\n",
       "      <td>13.739711</td>\n",
       "      <td>6.439932</td>\n",
       "      <td>13.185585</td>\n",
       "      <td>6.460520</td>\n",
       "      <td>14.552976</td>\n",
       "      <td>6.524002</td>\n",
       "      <td>17.160509</td>\n",
       "      <td>6.728923</td>\n",
       "    </tr>\n",
       "    <tr>\n",
       "      <th>6</th>\n",
       "      <td>id1813257</td>\n",
       "      <td>1</td>\n",
       "      <td>2016-06-17 22:34:59</td>\n",
       "      <td>2016-06-17 22:40:40</td>\n",
       "      <td>4</td>\n",
       "      <td>-73.969017</td>\n",
       "      <td>40.757839</td>\n",
       "      <td>-73.957405</td>\n",
       "      <td>40.765896</td>\n",
       "      <td>N</td>\n",
       "      <td>...</td>\n",
       "      <td>14.560128</td>\n",
       "      <td>6.499111</td>\n",
       "      <td>16.160027</td>\n",
       "      <td>6.464392</td>\n",
       "      <td>14.637641</td>\n",
       "      <td>6.508676</td>\n",
       "      <td>15.110140</td>\n",
       "      <td>6.334907</td>\n",
       "      <td>13.862539</td>\n",
       "      <td>6.369125</td>\n",
       "    </tr>\n",
       "  </tbody>\n",
       "</table>\n",
       "<p>5 rows × 33 columns</p>\n",
       "</div>"
      ],
      "text/plain": [
       "          id  vendor_id     pickup_datetime     dropoff_datetime  \\\n",
       "0  id2875421          2 2016-03-14 17:24:55  2016-03-14 17:32:30   \n",
       "1  id2377394          1 2016-06-12 00:43:35  2016-06-12 00:54:38   \n",
       "2  id3858529          2 2016-01-19 11:35:24  2016-01-19 12:10:48   \n",
       "3  id3504673          2 2016-04-06 19:32:31  2016-04-06 19:39:40   \n",
       "6  id1813257          1 2016-06-17 22:34:59  2016-06-17 22:40:40   \n",
       "\n",
       "   passenger_count  pickup_longitude  pickup_latitude  dropoff_longitude  \\\n",
       "0                1        -73.982155        40.767937         -73.964630   \n",
       "1                1        -73.980415        40.738564         -73.999481   \n",
       "2                1        -73.979027        40.763939         -74.005333   \n",
       "3                1        -74.010040        40.719971         -74.012268   \n",
       "6                4        -73.969017        40.757839         -73.957405   \n",
       "\n",
       "   dropoff_latitude store_and_fwd_flag                  ...                    \\\n",
       "0         40.765602                  N                  ...                     \n",
       "1         40.731152                  N                  ...                     \n",
       "2         40.710087                  N                  ...                     \n",
       "3         40.706718                  N                  ...                     \n",
       "6         40.765896                  N                  ...                     \n",
       "\n",
       "   speed_gby_pickup_weekofyear  log_trip_duration_gby_pickup_weekofyear  \\\n",
       "0                    14.699380                                 6.455396   \n",
       "1                    14.239944                                 6.529787   \n",
       "2                    14.556325                                 6.425675   \n",
       "3                    14.298784                                 6.466657   \n",
       "6                    14.560128                                 6.499111   \n",
       "\n",
       "   speed_gby_pickup_hour  log_trip_duration_gby_pickup_hour  \\\n",
       "0              12.686733                           6.536486   \n",
       "1              17.865169                           6.420345   \n",
       "2              12.624685                           6.522413   \n",
       "3              13.739711                           6.439932   \n",
       "6              16.160027                           6.464392   \n",
       "\n",
       "   speed_gby_pickup_week_hour  log_trip_duration_gby_pickup_week_hour  \\\n",
       "0                   13.234056                                6.470105   \n",
       "1                   15.697268                                6.464233   \n",
       "2                   10.966625                                6.639628   \n",
       "3                   13.185585                                6.460520   \n",
       "6                   14.637641                                6.508676   \n",
       "\n",
       "   speed_gby_pickup_cluster  log_trip_duration_gby_pickup_cluster  \\\n",
       "0                 13.235139                              6.423900   \n",
       "1                 13.844869                              6.335090   \n",
       "2                 12.578215                              6.556728   \n",
       "3                 14.552976                              6.524002   \n",
       "6                 15.110140                              6.334907   \n",
       "\n",
       "   speed_gby_dropoff_cluster  log_trip_duration_gby_dropoff_cluster  \n",
       "0                  12.683357                               6.315758  \n",
       "1                  13.052158                               6.342977  \n",
       "2                  15.194384                               6.641250  \n",
       "3                  17.160509                               6.728923  \n",
       "6                  13.862539                               6.369125  \n",
       "\n",
       "[5 rows x 33 columns]"
      ]
     },
     "execution_count": 37,
     "metadata": {},
     "output_type": "execute_result"
    }
   ],
   "source": [
    "train_set.head()"
   ]
  },
  {
   "cell_type": "code",
   "execution_count": 38,
   "metadata": {},
   "outputs": [],
   "source": [
    "for cols in [['pickup_hour', 'pickup_cluster'],\n",
    "                 ['pickup_hour', 'dropoff_cluster'],\n",
    "                 ['pickup_cluster', 'dropoff_cluster']]:\n",
    "    speed = train_set.groupby(cols).mean()[['speed']].reset_index()\n",
    "    count = train.groupby(cols).count()[['id']].reset_index()\n",
    "    stats = pd.merge(speed, count, on=cols)\n",
    "    stats = stats[stats['id'] > 100]\n",
    "    stats.columns = cols + ['speed_%s' % '_'.join(cols), 'cnt_%s' %  '_'.join(cols)]\n",
    "    train_set = pd.merge(train_set, stats, how='left', on=cols)\n",
    "    val_set = pd.merge(val_set, stats, how='left', on=cols)\n",
    "    test = pd.merge(test, stats, how='left', on=cols)"
   ]
  },
  {
   "cell_type": "code",
   "execution_count": 39,
   "metadata": {},
   "outputs": [
    {
     "data": {
      "text/plain": [
       "['speed_pickup_hour_pickup_cluster',\n",
       " 'cnt_pickup_hour_pickup_cluster',\n",
       " 'speed_pickup_hour_dropoff_cluster',\n",
       " 'cnt_pickup_hour_dropoff_cluster',\n",
       " 'speed_pickup_cluster_dropoff_cluster',\n",
       " 'cnt_pickup_cluster_dropoff_cluster']"
      ]
     },
     "execution_count": 39,
     "metadata": {},
     "output_type": "execute_result"
    }
   ],
   "source": [
    "# where are the NAs\n",
    "df_na = train_set.isnull().any()\n",
    "[fea for fea in df_na.index if df_na[fea]]"
   ]
  },
  {
   "cell_type": "code",
   "execution_count": 40,
   "metadata": {},
   "outputs": [
    {
     "name": "stdout",
     "output_type": "stream",
     "text": [
      "speed_pickup_cluster_dropoff_cluster 13.766474680536646\n",
      "speed_pickup_hour_pickup_cluster 14.57103909790552\n",
      "speed_pickup_hour_dropoff_cluster 14.43568521099574\n"
     ]
    }
   ],
   "source": [
    "# fix NAs\n",
    "for col in  ['speed_pickup_cluster_dropoff_cluster',\n",
    "             'speed_pickup_hour_pickup_cluster',\n",
    "             'speed_pickup_hour_dropoff_cluster']:\n",
    "    m = train_set[col].mean()\n",
    "    print(col, m)\n",
    "    train_set[col].fillna(m, inplace=True)\n",
    "    val_set[col].fillna(m, inplace=True)\n",
    "    test[col].fillna(m, inplace=True)"
   ]
  },
  {
   "cell_type": "code",
   "execution_count": 41,
   "metadata": {},
   "outputs": [],
   "source": [
    "for col in ['cnt_pickup_cluster_dropoff_cluster', 'cnt_pickup_hour_pickup_cluster', \n",
    "            'cnt_pickup_hour_dropoff_cluster']:\n",
    "    m = 0\n",
    "    train_set[col].fillna(m, inplace=True)\n",
    "    val_set[col].fillna(m, inplace=True)\n",
    "    test[col].fillna(m, inplace=True)"
   ]
  },
  {
   "cell_type": "markdown",
   "metadata": {
    "collapsed": true
   },
   "source": [
    "## Initial model"
   ]
  },
  {
   "cell_type": "code",
   "execution_count": 42,
   "metadata": {},
   "outputs": [
    {
     "data": {
      "text/plain": [
       "(39,)"
      ]
     },
     "execution_count": 42,
     "metadata": {},
     "output_type": "execute_result"
    }
   ],
   "source": [
    "train_set.columns.shape"
   ]
  },
  {
   "cell_type": "code",
   "execution_count": 43,
   "metadata": {},
   "outputs": [
    {
     "data": {
      "text/plain": [
       "Index(['passenger_count', 'pickup_longitude', 'pickup_latitude',\n",
       "       'dropoff_longitude', 'dropoff_latitude', 'distance', 'pickup_weekday',\n",
       "       'pickup_weekofyear', 'pickup_hour', 'pickup_week_hour',\n",
       "       'pickup_cluster', 'dropoff_cluster', 'speed_gby_pickup_weekday',\n",
       "       'log_trip_duration_gby_pickup_weekday', 'speed_gby_pickup_weekofyear',\n",
       "       'log_trip_duration_gby_pickup_weekofyear', 'speed_gby_pickup_hour',\n",
       "       'log_trip_duration_gby_pickup_hour', 'speed_gby_pickup_week_hour',\n",
       "       'log_trip_duration_gby_pickup_week_hour', 'speed_gby_pickup_cluster',\n",
       "       'log_trip_duration_gby_pickup_cluster', 'speed_gby_dropoff_cluster',\n",
       "       'log_trip_duration_gby_dropoff_cluster',\n",
       "       'speed_pickup_hour_pickup_cluster', 'cnt_pickup_hour_pickup_cluster',\n",
       "       'speed_pickup_hour_dropoff_cluster', 'cnt_pickup_hour_dropoff_cluster',\n",
       "       'speed_pickup_cluster_dropoff_cluster',\n",
       "       'cnt_pickup_cluster_dropoff_cluster'],\n",
       "      dtype='object')"
      ]
     },
     "execution_count": 43,
     "metadata": {},
     "output_type": "execute_result"
    }
   ],
   "source": [
    "ind = [4, 5, 6, 7, 8, 13] + list(range(15, 39))\n",
    "features = train_set.columns[ind]\n",
    "features"
   ]
  },
  {
   "cell_type": "code",
   "execution_count": 44,
   "metadata": {},
   "outputs": [
    {
     "data": {
      "text/plain": [
       "(1165908, 39)"
      ]
     },
     "execution_count": 44,
     "metadata": {},
     "output_type": "execute_result"
    }
   ],
   "source": [
    "train_set.shape"
   ]
  },
  {
   "cell_type": "markdown",
   "metadata": {},
   "source": [
    "## XGBOOST"
   ]
  },
  {
   "cell_type": "code",
   "execution_count": 45,
   "metadata": {},
   "outputs": [],
   "source": [
    "# here is the list of parameters\n",
    "# https://github.com/dmlc/xgboost/blob/master/doc/parameter.md\n",
    "\n",
    "xgb_pars = {'min_child_weight': 50, 'eta': 0.1, 'colsample_bytree': 0.3, 'max_depth': 10,\n",
    "            'subsample': 0.8, 'lambda': 1., 'nthread': -1, 'booster' : 'gbtree', 'silent': 1,\n",
    "            'eval_metric': 'rmse', 'objective': 'reg:linear'}"
   ]
  },
  {
   "cell_type": "code",
   "execution_count": 46,
   "metadata": {},
   "outputs": [],
   "source": [
    "# initially training on a subset of the data\n",
    "#train_set = train_set[:500000]\n",
    "train_set.shape\n",
    "\n",
    "train_y = train_set['log_trip_duration'].values\n",
    "val_y = val_set['log_trip_duration'].values\n",
    "\n",
    "dtrain = xgb.DMatrix(train_set[features].values, label=train_y)\n",
    "dvalid = xgb.DMatrix(val_set[features].values, label=val_y)\n",
    "dtest = xgb.DMatrix(test[features].values)\n",
    "watchlist = [(dtrain, 'train'), (dvalid, 'valid')]"
   ]
  },
  {
   "cell_type": "code",
   "execution_count": 47,
   "metadata": {},
   "outputs": [
    {
     "name": "stdout",
     "output_type": "stream",
     "text": [
      "[0]\ttrain-rmse:5.4165\tvalid-rmse:5.41818\n",
      "Multiple eval metrics have been passed: 'valid-rmse' will be used for early stopping.\n",
      "\n",
      "Will train until valid-rmse hasn't improved in 50 rounds.\n",
      "[10]\ttrain-rmse:1.92887\tvalid-rmse:1.93031\n",
      "[20]\ttrain-rmse:0.759738\tvalid-rmse:0.762281\n",
      "[30]\ttrain-rmse:0.432854\tvalid-rmse:0.437509\n",
      "[40]\ttrain-rmse:0.363542\tvalid-rmse:0.369934\n",
      "[50]\ttrain-rmse:0.346768\tvalid-rmse:0.35464\n",
      "[60]\ttrain-rmse:0.340301\tvalid-rmse:0.349514\n",
      "[70]\ttrain-rmse:0.336826\tvalid-rmse:0.347037\n",
      "[80]\ttrain-rmse:0.333728\tvalid-rmse:0.34485\n",
      "[90]\ttrain-rmse:0.331082\tvalid-rmse:0.343161\n",
      "Time fitting xgb: 173 seconds\n"
     ]
    }
   ],
   "source": [
    "# train xgboost model\n",
    "t0 = dt.datetime.now()\n",
    "gbm = xgb.train(xgb_pars, dtrain, 100, watchlist, early_stopping_rounds=50,\n",
    "                maximize=False, verbose_eval=10)\n",
    "t1 = dt.datetime.now()\n",
    "print('Time fitting xgb: %i seconds' % (t1 - t0).seconds)"
   ]
  },
  {
   "cell_type": "code",
   "execution_count": 48,
   "metadata": {},
   "outputs": [],
   "source": [
    "predictions = gbm.predict(dvalid)"
   ]
  },
  {
   "cell_type": "code",
   "execution_count": 49,
   "metadata": {},
   "outputs": [
    {
     "data": {
      "text/html": [
       "<div>\n",
       "<style scoped>\n",
       "    .dataframe tbody tr th:only-of-type {\n",
       "        vertical-align: middle;\n",
       "    }\n",
       "\n",
       "    .dataframe tbody tr th {\n",
       "        vertical-align: top;\n",
       "    }\n",
       "\n",
       "    .dataframe thead th {\n",
       "        text-align: right;\n",
       "    }\n",
       "</style>\n",
       "<table border=\"1\" class=\"dataframe\">\n",
       "  <thead>\n",
       "    <tr style=\"text-align: right;\">\n",
       "      <th></th>\n",
       "      <th>pred</th>\n",
       "      <th>y</th>\n",
       "    </tr>\n",
       "  </thead>\n",
       "  <tbody>\n",
       "    <tr>\n",
       "      <th>0</th>\n",
       "      <td>236.879013</td>\n",
       "      <td>435.0</td>\n",
       "    </tr>\n",
       "    <tr>\n",
       "      <th>1</th>\n",
       "      <td>535.447327</td>\n",
       "      <td>443.0</td>\n",
       "    </tr>\n",
       "    <tr>\n",
       "      <th>2</th>\n",
       "      <td>1953.779175</td>\n",
       "      <td>2331.0</td>\n",
       "    </tr>\n",
       "    <tr>\n",
       "      <th>3</th>\n",
       "      <td>1578.230835</td>\n",
       "      <td>1479.0</td>\n",
       "    </tr>\n",
       "    <tr>\n",
       "      <th>4</th>\n",
       "      <td>1030.430664</td>\n",
       "      <td>1022.0</td>\n",
       "    </tr>\n",
       "    <tr>\n",
       "      <th>5</th>\n",
       "      <td>1789.662109</td>\n",
       "      <td>2269.0</td>\n",
       "    </tr>\n",
       "    <tr>\n",
       "      <th>6</th>\n",
       "      <td>1740.815430</td>\n",
       "      <td>1478.0</td>\n",
       "    </tr>\n",
       "    <tr>\n",
       "      <th>7</th>\n",
       "      <td>260.600433</td>\n",
       "      <td>215.0</td>\n",
       "    </tr>\n",
       "    <tr>\n",
       "      <th>8</th>\n",
       "      <td>239.388046</td>\n",
       "      <td>218.0</td>\n",
       "    </tr>\n",
       "    <tr>\n",
       "      <th>9</th>\n",
       "      <td>334.634521</td>\n",
       "      <td>336.0</td>\n",
       "    </tr>\n",
       "  </tbody>\n",
       "</table>\n",
       "</div>"
      ],
      "text/plain": [
       "          pred       y\n",
       "0   236.879013   435.0\n",
       "1   535.447327   443.0\n",
       "2  1953.779175  2331.0\n",
       "3  1578.230835  1479.0\n",
       "4  1030.430664  1022.0\n",
       "5  1789.662109  2269.0\n",
       "6  1740.815430  1478.0\n",
       "7   260.600433   215.0\n",
       "8   239.388046   218.0\n",
       "9   334.634521   336.0"
      ]
     },
     "execution_count": 49,
     "metadata": {},
     "output_type": "execute_result"
    }
   ],
   "source": [
    "val_y = val_set['trip_duration'].values\n",
    "pred = np.exp(predictions) -1 \n",
    "res = pd.DataFrame({'pred': pred, 'y': val_y})\n",
    "res.head(10)"
   ]
  },
  {
   "cell_type": "code",
   "execution_count": 50,
   "metadata": {},
   "outputs": [],
   "source": [
    "feature_importance_dict = gbm.get_fscore()\n",
    "fs = ['f%i' % i for i in range(len(features))]\n",
    "f1 = pd.DataFrame({'f': list(feature_importance_dict.keys()), 'importance': list(feature_importance_dict.values())})\n",
    "f2 = pd.DataFrame({'f': fs, 'feature_name': features})\n",
    "feature_importance = pd.merge(f1, f2, how='right', on='f')\n",
    "feature_importance = feature_importance.fillna(0)"
   ]
  },
  {
   "cell_type": "code",
   "execution_count": 52,
   "metadata": {},
   "outputs": [
    {
     "data": {
      "text/html": [
       "<div>\n",
       "<style scoped>\n",
       "    .dataframe tbody tr th:only-of-type {\n",
       "        vertical-align: middle;\n",
       "    }\n",
       "\n",
       "    .dataframe tbody tr th {\n",
       "        vertical-align: top;\n",
       "    }\n",
       "\n",
       "    .dataframe thead th {\n",
       "        text-align: right;\n",
       "    }\n",
       "</style>\n",
       "<table border=\"1\" class=\"dataframe\">\n",
       "  <thead>\n",
       "    <tr style=\"text-align: right;\">\n",
       "      <th></th>\n",
       "      <th>f</th>\n",
       "      <th>importance</th>\n",
       "      <th>feature_name</th>\n",
       "    </tr>\n",
       "  </thead>\n",
       "  <tbody>\n",
       "    <tr>\n",
       "      <th>5</th>\n",
       "      <td>f2</td>\n",
       "      <td>4975</td>\n",
       "      <td>pickup_latitude</td>\n",
       "    </tr>\n",
       "    <tr>\n",
       "      <th>24</th>\n",
       "      <td>f1</td>\n",
       "      <td>4248</td>\n",
       "      <td>pickup_longitude</td>\n",
       "    </tr>\n",
       "    <tr>\n",
       "      <th>13</th>\n",
       "      <td>f3</td>\n",
       "      <td>3894</td>\n",
       "      <td>dropoff_longitude</td>\n",
       "    </tr>\n",
       "    <tr>\n",
       "      <th>0</th>\n",
       "      <td>f28</td>\n",
       "      <td>3424</td>\n",
       "      <td>speed_pickup_cluster_dropoff_cluster</td>\n",
       "    </tr>\n",
       "    <tr>\n",
       "      <th>15</th>\n",
       "      <td>f4</td>\n",
       "      <td>3357</td>\n",
       "      <td>dropoff_latitude</td>\n",
       "    </tr>\n",
       "    <tr>\n",
       "      <th>18</th>\n",
       "      <td>f5</td>\n",
       "      <td>2808</td>\n",
       "      <td>distance</td>\n",
       "    </tr>\n",
       "    <tr>\n",
       "      <th>19</th>\n",
       "      <td>f18</td>\n",
       "      <td>2584</td>\n",
       "      <td>speed_gby_pickup_week_hour</td>\n",
       "    </tr>\n",
       "    <tr>\n",
       "      <th>14</th>\n",
       "      <td>f25</td>\n",
       "      <td>2429</td>\n",
       "      <td>cnt_pickup_hour_pickup_cluster</td>\n",
       "    </tr>\n",
       "    <tr>\n",
       "      <th>22</th>\n",
       "      <td>f26</td>\n",
       "      <td>2429</td>\n",
       "      <td>speed_pickup_hour_dropoff_cluster</td>\n",
       "    </tr>\n",
       "    <tr>\n",
       "      <th>8</th>\n",
       "      <td>f29</td>\n",
       "      <td>2343</td>\n",
       "      <td>cnt_pickup_cluster_dropoff_cluster</td>\n",
       "    </tr>\n",
       "    <tr>\n",
       "      <th>9</th>\n",
       "      <td>f23</td>\n",
       "      <td>2233</td>\n",
       "      <td>log_trip_duration_gby_dropoff_cluster</td>\n",
       "    </tr>\n",
       "    <tr>\n",
       "      <th>1</th>\n",
       "      <td>f20</td>\n",
       "      <td>2187</td>\n",
       "      <td>speed_gby_pickup_cluster</td>\n",
       "    </tr>\n",
       "    <tr>\n",
       "      <th>28</th>\n",
       "      <td>f22</td>\n",
       "      <td>2176</td>\n",
       "      <td>speed_gby_dropoff_cluster</td>\n",
       "    </tr>\n",
       "    <tr>\n",
       "      <th>16</th>\n",
       "      <td>f21</td>\n",
       "      <td>1890</td>\n",
       "      <td>log_trip_duration_gby_pickup_cluster</td>\n",
       "    </tr>\n",
       "    <tr>\n",
       "      <th>10</th>\n",
       "      <td>f24</td>\n",
       "      <td>1802</td>\n",
       "      <td>speed_pickup_hour_pickup_cluster</td>\n",
       "    </tr>\n",
       "    <tr>\n",
       "      <th>21</th>\n",
       "      <td>f11</td>\n",
       "      <td>1699</td>\n",
       "      <td>dropoff_cluster</td>\n",
       "    </tr>\n",
       "    <tr>\n",
       "      <th>2</th>\n",
       "      <td>f19</td>\n",
       "      <td>1692</td>\n",
       "      <td>log_trip_duration_gby_pickup_week_hour</td>\n",
       "    </tr>\n",
       "    <tr>\n",
       "      <th>27</th>\n",
       "      <td>f10</td>\n",
       "      <td>1672</td>\n",
       "      <td>pickup_cluster</td>\n",
       "    </tr>\n",
       "    <tr>\n",
       "      <th>23</th>\n",
       "      <td>f27</td>\n",
       "      <td>1546</td>\n",
       "      <td>cnt_pickup_hour_dropoff_cluster</td>\n",
       "    </tr>\n",
       "    <tr>\n",
       "      <th>17</th>\n",
       "      <td>f15</td>\n",
       "      <td>1445</td>\n",
       "      <td>log_trip_duration_gby_pickup_weekofyear</td>\n",
       "    </tr>\n",
       "    <tr>\n",
       "      <th>20</th>\n",
       "      <td>f8</td>\n",
       "      <td>1424</td>\n",
       "      <td>pickup_hour</td>\n",
       "    </tr>\n",
       "    <tr>\n",
       "      <th>29</th>\n",
       "      <td>f9</td>\n",
       "      <td>1405</td>\n",
       "      <td>pickup_week_hour</td>\n",
       "    </tr>\n",
       "    <tr>\n",
       "      <th>6</th>\n",
       "      <td>f14</td>\n",
       "      <td>1269</td>\n",
       "      <td>speed_gby_pickup_weekofyear</td>\n",
       "    </tr>\n",
       "    <tr>\n",
       "      <th>11</th>\n",
       "      <td>f17</td>\n",
       "      <td>1193</td>\n",
       "      <td>log_trip_duration_gby_pickup_hour</td>\n",
       "    </tr>\n",
       "    <tr>\n",
       "      <th>26</th>\n",
       "      <td>f7</td>\n",
       "      <td>1140</td>\n",
       "      <td>pickup_weekofyear</td>\n",
       "    </tr>\n",
       "    <tr>\n",
       "      <th>7</th>\n",
       "      <td>f6</td>\n",
       "      <td>869</td>\n",
       "      <td>pickup_weekday</td>\n",
       "    </tr>\n",
       "    <tr>\n",
       "      <th>3</th>\n",
       "      <td>f16</td>\n",
       "      <td>772</td>\n",
       "      <td>speed_gby_pickup_hour</td>\n",
       "    </tr>\n",
       "    <tr>\n",
       "      <th>12</th>\n",
       "      <td>f12</td>\n",
       "      <td>630</td>\n",
       "      <td>speed_gby_pickup_weekday</td>\n",
       "    </tr>\n",
       "    <tr>\n",
       "      <th>25</th>\n",
       "      <td>f13</td>\n",
       "      <td>538</td>\n",
       "      <td>log_trip_duration_gby_pickup_weekday</td>\n",
       "    </tr>\n",
       "    <tr>\n",
       "      <th>4</th>\n",
       "      <td>f0</td>\n",
       "      <td>277</td>\n",
       "      <td>passenger_count</td>\n",
       "    </tr>\n",
       "  </tbody>\n",
       "</table>\n",
       "</div>"
      ],
      "text/plain": [
       "      f  importance                             feature_name\n",
       "5    f2        4975                          pickup_latitude\n",
       "24   f1        4248                         pickup_longitude\n",
       "13   f3        3894                        dropoff_longitude\n",
       "0   f28        3424     speed_pickup_cluster_dropoff_cluster\n",
       "15   f4        3357                         dropoff_latitude\n",
       "18   f5        2808                                 distance\n",
       "19  f18        2584               speed_gby_pickup_week_hour\n",
       "14  f25        2429           cnt_pickup_hour_pickup_cluster\n",
       "22  f26        2429        speed_pickup_hour_dropoff_cluster\n",
       "8   f29        2343       cnt_pickup_cluster_dropoff_cluster\n",
       "9   f23        2233    log_trip_duration_gby_dropoff_cluster\n",
       "1   f20        2187                 speed_gby_pickup_cluster\n",
       "28  f22        2176                speed_gby_dropoff_cluster\n",
       "16  f21        1890     log_trip_duration_gby_pickup_cluster\n",
       "10  f24        1802         speed_pickup_hour_pickup_cluster\n",
       "21  f11        1699                          dropoff_cluster\n",
       "2   f19        1692   log_trip_duration_gby_pickup_week_hour\n",
       "27  f10        1672                           pickup_cluster\n",
       "23  f27        1546          cnt_pickup_hour_dropoff_cluster\n",
       "17  f15        1445  log_trip_duration_gby_pickup_weekofyear\n",
       "20   f8        1424                              pickup_hour\n",
       "29   f9        1405                         pickup_week_hour\n",
       "6   f14        1269              speed_gby_pickup_weekofyear\n",
       "11  f17        1193        log_trip_duration_gby_pickup_hour\n",
       "26   f7        1140                        pickup_weekofyear\n",
       "7    f6         869                           pickup_weekday\n",
       "3   f16         772                    speed_gby_pickup_hour\n",
       "12  f12         630                 speed_gby_pickup_weekday\n",
       "25  f13         538     log_trip_duration_gby_pickup_weekday\n",
       "4    f0         277                          passenger_count"
      ]
     },
     "execution_count": 52,
     "metadata": {},
     "output_type": "execute_result"
    }
   ],
   "source": [
    "feature_importance.sort_values('importance', ascending=False)"
   ]
  },
  {
   "cell_type": "markdown",
   "metadata": {},
   "source": [
    "## Features from external data"
   ]
  },
  {
   "cell_type": "markdown",
   "metadata": {},
   "source": [
    "https://www.kaggle.com/oscarleo/new-york-city-taxi-with-osrm\n",
    "you can get this data with wget\n",
    "\n",
    "wget https://www.kaggle.com/oscarleo/new-york-city-taxi-with-osrm/downloads/fastest_routes_train_part_1.csv"
   ]
  },
  {
   "cell_type": "markdown",
   "metadata": {},
   "source": [
    "## References"
   ]
  },
  {
   "cell_type": "markdown",
   "metadata": {},
   "source": [
    "* https://www.kaggle.com/gaborfodor/from-eda-to-the-top-lb-0-367\n",
    "* https://www.slideshare.net/HJvanVeen/feature-engineering-72376750?trk=v-feed"
   ]
  },
  {
   "cell_type": "code",
   "execution_count": null,
   "metadata": {
    "collapsed": true
   },
   "outputs": [],
   "source": []
  }
 ],
 "metadata": {
  "kernelspec": {
   "display_name": "Python 3",
   "language": "python",
   "name": "python3"
  },
  "language_info": {
   "codemirror_mode": {
    "name": "ipython",
    "version": 3
   },
   "file_extension": ".py",
   "mimetype": "text/x-python",
   "name": "python",
   "nbconvert_exporter": "python",
   "pygments_lexer": "ipython3",
   "version": "3.6.4"
  },
  "latex_envs": {
   "bibliofile": "biblio.bib",
   "cite_by": "apalike",
   "current_citInitial": 1,
   "eqLabelWithNumbers": true,
   "eqNumInitial": 0
  },
  "toc": {
   "nav_menu": {
    "height": "192px",
    "width": "252px"
   },
   "number_sections": true,
   "sideBar": true,
   "skip_h1_title": false,
   "toc_cell": false,
   "toc_position": {},
   "toc_section_display": "block",
   "toc_window_display": false
  }
 },
 "nbformat": 4,
 "nbformat_minor": 2
}
