{
 "cells": [
  {
   "cell_type": "markdown",
   "metadata": {},
   "source": [
    "# Text Classification:  Quora questions pairs \n",
    "In this notebook we try our best to solve a Kaggle competition problem in which we are trying to answer the following question: Can you identify question pairs that have the same intent?\n",
    "\n",
    "https://www.kaggle.com/c/quora-question-pairs"
   ]
  },
  {
   "cell_type": "code",
   "execution_count": 1,
   "metadata": {},
   "outputs": [],
   "source": [
    "import numpy as np \n",
    "import pandas as pd \n",
    "import os\n",
    "import matplotlib.pyplot as plt\n",
    "import seaborn as sns\n",
    "%matplotlib inline"
   ]
  },
  {
   "cell_type": "markdown",
   "metadata": {},
   "source": [
    "## First look at the data"
   ]
  },
  {
   "cell_type": "code",
   "execution_count": 2,
   "metadata": {},
   "outputs": [],
   "source": [
    "path = \"/data/yinterian/quora-question-pairs/\""
   ]
  },
  {
   "cell_type": "code",
   "execution_count": 3,
   "metadata": {},
   "outputs": [
    {
     "name": "stdout",
     "output_type": "stream",
     "text": [
      "\"id\",\"qid1\",\"qid2\",\"question1\",\"question2\",\"is_duplicate\"\r",
      "\r\n",
      "\"0\",\"1\",\"2\",\"What is the step by step guide to invest in share market in india?\",\"What is the step by step guide to invest in share market?\",\"0\"\r",
      "\r\n",
      "\"1\",\"3\",\"4\",\"What is the story of Kohinoor (Koh-i-Noor) Diamond?\",\"What would happen if the Indian government stole the Kohinoor (Koh-i-Noor) diamond back?\",\"0\"\r",
      "\r\n",
      "\"2\",\"5\",\"6\",\"How can I increase the speed of my internet connection while using a VPN?\",\"How can Internet speed be increased by hacking through DNS?\",\"0\"\r",
      "\r\n",
      "\"3\",\"7\",\"8\",\"Why am I mentally very lonely? How can I solve it?\",\"Find the remainder when [math]23^{24}[/math] is divided by 24,23?\",\"0\"\r",
      "\r\n",
      "\"4\",\"9\",\"10\",\"Which one dissolve in water quikly sugar, salt, methane and carbon di oxide?\",\"Which fish would survive in salt water?\",\"0\"\r",
      "\r\n",
      "\"5\",\"11\",\"12\",\"Astrology: I am a Capricorn Sun Cap moon and cap rising...what does that say about me?\",\"I'm a triple Capricorn (Sun, Moon and ascendant in Capricorn) What does this say about me?\",\"1\"\r",
      "\r\n",
      "\"6\",\"13\",\"14\",\"Should I buy tiago?\",\"What keeps childern active and far from phone and video games?\",\"0\"\r",
      "\r\n",
      "\"7\",\"15\",\"16\",\"How can I be a good geologist?\",\"What should I do to be a great geologist?\",\"1\"\r",
      "\r\n",
      "\"8\",\"17\",\"18\",\"When do you use シ instead of し?\",\"When do you use \"\"&\"\" instead of \"\"and\"\"?\",\"0\"\r",
      "\r\n"
     ]
    }
   ],
   "source": [
    "!head $path/train.csv"
   ]
  },
  {
   "cell_type": "code",
   "execution_count": 4,
   "metadata": {},
   "outputs": [],
   "source": [
    "data = pd.read_csv(path + \"train.csv\")\n",
    "test = pd.read_csv(path + \"test.csv\")"
   ]
  },
  {
   "cell_type": "code",
   "execution_count": 5,
   "metadata": {},
   "outputs": [
    {
     "name": "stdout",
     "output_type": "stream",
     "text": [
      "<class 'pandas.core.frame.DataFrame'>\n",
      "RangeIndex: 404290 entries, 0 to 404289\n",
      "Data columns (total 6 columns):\n",
      "id              404290 non-null int64\n",
      "qid1            404290 non-null int64\n",
      "qid2            404290 non-null int64\n",
      "question1       404289 non-null object\n",
      "question2       404288 non-null object\n",
      "is_duplicate    404290 non-null int64\n",
      "dtypes: int64(4), object(2)\n",
      "memory usage: 18.5+ MB\n"
     ]
    }
   ],
   "source": [
    "data.info()"
   ]
  },
  {
   "cell_type": "markdown",
   "metadata": {},
   "source": [
    "## Initial Clean-up"
   ]
  },
  {
   "cell_type": "code",
   "execution_count": 6,
   "metadata": {},
   "outputs": [
    {
     "data": {
      "text/plain": [
       "'What is the step by step guide to invest in share market in india?'"
      ]
     },
     "execution_count": 6,
     "metadata": {},
     "output_type": "execute_result"
    }
   ],
   "source": [
    "import re\n",
    "# see how ? is attached to the last word, need to make a space so that splitting on spaces will work\n",
    "data.loc[0, 'question1']"
   ]
  },
  {
   "cell_type": "code",
   "execution_count": 7,
   "metadata": {},
   "outputs": [],
   "source": [
    "def add_spaces_around_puctuation(question):\n",
    "    return re.sub(r\"\\s?([^\\w\\s'/\\-\\+$]+)\\s?\", r\" \\1 \", str(question))"
   ]
  },
  {
   "cell_type": "code",
   "execution_count": 8,
   "metadata": {},
   "outputs": [
    {
     "data": {
      "text/plain": [
       "'What is the step by step guide to invest in share market in india ? '"
      ]
     },
     "execution_count": 8,
     "metadata": {},
     "output_type": "execute_result"
    }
   ],
   "source": [
    "add_spaces_around_puctuation(data.loc[0, 'question1'])"
   ]
  },
  {
   "cell_type": "code",
   "execution_count": 9,
   "metadata": {},
   "outputs": [],
   "source": [
    "data[\"question1\"] = data[\"question1\"].apply(add_spaces_around_puctuation)\n",
    "data[\"question2\"] = data[\"question2\"].apply(add_spaces_around_puctuation)"
   ]
  },
  {
   "cell_type": "code",
   "execution_count": 10,
   "metadata": {},
   "outputs": [],
   "source": [
    "test[\"question1\"] = test[\"question1\"].apply(add_spaces_around_puctuation)\n",
    "test[\"question2\"] = test[\"question2\"].apply(add_spaces_around_puctuation)"
   ]
  },
  {
   "cell_type": "markdown",
   "metadata": {},
   "source": [
    "## Feature Analysis\n",
    "Here we compute a measure of similarity between the two input questions."
   ]
  },
  {
   "cell_type": "code",
   "execution_count": 11,
   "metadata": {},
   "outputs": [
    {
     "name": "stdout",
     "output_type": "stream",
     "text": [
      "[nltk_data] Downloading package stopwords to\n",
      "[nltk_data]     /home/yinterian/nltk_data...\n",
      "[nltk_data]   Package stopwords is already up-to-date!\n"
     ]
    }
   ],
   "source": [
    "# get stop words\n",
    "import nltk\n",
    "nltk.download('stopwords')\n",
    "from nltk.corpus import stopwords\n",
    "stops = set(stopwords.words(\"english\"))"
   ]
  },
  {
   "cell_type": "code",
   "execution_count": 12,
   "metadata": {},
   "outputs": [],
   "source": [
    "# modified from https://www.kaggle.com/anokas/data-analysis-xgboost-starter-0-35460-lb\n",
    "def get_non_stopwords(question):\n",
    "    \"\"\"Returns a list of non-stopwords\"\"\"\n",
    "    return {x:1 for x in str(question).lower().split() if x not in stops}.keys()\n",
    "    \n",
    "def jaccard_similarity(row):\n",
    "    \"\"\" Return percent or shared words\"\"\"\n",
    "    w1 = get_non_stopwords(row['question1'])\n",
    "    w2 = get_non_stopwords(row['question2'])\n",
    "    inter = set(w1).intersection(w2)\n",
    "    union = set(w1).union(w2)\n",
    "    return len(inter)/(len(union) + 0.00001)"
   ]
  },
  {
   "cell_type": "code",
   "execution_count": 13,
   "metadata": {},
   "outputs": [
    {
     "name": "stdout",
     "output_type": "stream",
     "text": [
      "dict_keys(['step', 'guide', 'invest', 'share', 'market', 'india', '?']) dict_keys(['step', 'guide', 'invest', 'share', 'market', '?']) 0.8571416326548106\n"
     ]
    }
   ],
   "source": [
    "row = data.iloc[0]\n",
    "w1 = get_non_stopwords(row['question1'])\n",
    "w2 = get_non_stopwords(row['question2'])\n",
    "print(w1, w2, jaccard_similarity(row))"
   ]
  },
  {
   "cell_type": "code",
   "execution_count": 14,
   "metadata": {},
   "outputs": [],
   "source": [
    "jaccard = data.apply(jaccard_similarity, axis=1, raw=True)"
   ]
  },
  {
   "cell_type": "code",
   "execution_count": 15,
   "metadata": {},
   "outputs": [
    {
     "data": {
      "text/plain": [
       "Text(0.5,0,'Jaccard similarity')"
      ]
     },
     "execution_count": 15,
     "metadata": {},
     "output_type": "execute_result"
    },
    {
     "data": {
      "image/png": "[encoded data removed]",
      "text/plain": [
       "<matplotlib.figure.Figure at 0x7ff1a1841128>"
      ]
     },
     "metadata": {},
     "output_type": "display_data"
    }
   ],
   "source": [
    "# plotting\n",
    "plt.figure(figsize=(15, 5))\n",
    "plt.hist(jaccard[data['is_duplicate'] == 0], bins=30, normed=True, label='Not Duplicate')\n",
    "plt.hist(jaccard[data['is_duplicate'] == 1], bins=30, normed=True, alpha=0.7, label='Duplicate')\n",
    "plt.legend()\n",
    "plt.title('Label distribution versus Jaccard similarity', fontsize=15)\n",
    "plt.xlabel('Jaccard similarity', fontsize=15)"
   ]
  },
  {
   "cell_type": "markdown",
   "metadata": {},
   "source": [
    "This looks like a very successful feature. But wait ... This is based on one-hot encoding of features. Can we do better with embeddings?"
   ]
  },
  {
   "cell_type": "code",
   "execution_count": 16,
   "metadata": {},
   "outputs": [],
   "source": [
    "data[\"JS\"] = jaccard\n",
    "test[\"JS\"] = test.apply(jaccard_similarity, axis=1, raw=True)"
   ]
  },
  {
   "cell_type": "code",
   "execution_count": 17,
   "metadata": {},
   "outputs": [],
   "source": [
    "y_data = data['is_duplicate'].values"
   ]
  },
  {
   "cell_type": "code",
   "execution_count": 18,
   "metadata": {},
   "outputs": [
    {
     "data": {
      "text/plain": [
       "(404290,)"
      ]
     },
     "execution_count": 18,
     "metadata": {},
     "output_type": "execute_result"
    }
   ],
   "source": [
    "y_data.shape"
   ]
  },
  {
   "cell_type": "markdown",
   "metadata": {},
   "source": [
    "## Creating a train and validation sets\n",
    "The mean of the target value is different in the training data than in the public test set. If you submit a constant predition of 0.369 (mean of the training set) you get a loss of 0.554. What is the mean target of the public test set? This is very similar to a HW excercise. The solution is 0.174. Here we create a validation set with mean target value of 0.174"
   ]
  },
  {
   "cell_type": "code",
   "execution_count": 19,
   "metadata": {},
   "outputs": [
    {
     "data": {
      "text/plain": [
       "0.369197853026293"
      ]
     },
     "execution_count": 19,
     "metadata": {},
     "output_type": "execute_result"
    }
   ],
   "source": [
    "data.is_duplicate.mean()"
   ]
  },
  {
   "cell_type": "markdown",
   "metadata": {},
   "source": [
    "We have a larger proportion of 1s in the training set than in the test set. A strategy that is often used in these cases is to oversample the 0s. First we split training data into train and val and then we oversample."
   ]
  },
  {
   "cell_type": "code",
   "execution_count": 20,
   "metadata": {},
   "outputs": [],
   "source": [
    "from sklearn.model_selection import train_test_split\n",
    "train, val, y_train, y_val = train_test_split(data, y_data, test_size=0.2, random_state=23)"
   ]
  },
  {
   "cell_type": "code",
   "execution_count": 21,
   "metadata": {},
   "outputs": [
    {
     "name": "stdout",
     "output_type": "stream",
     "text": [
      "323432 80858\n"
     ]
    }
   ],
   "source": [
    "# how many negatives we need \n",
    "print(len(train), len(val)) "
   ]
  },
  {
   "cell_type": "code",
   "execution_count": 22,
   "metadata": {},
   "outputs": [],
   "source": [
    "neg_index = np.where(y_train == 0)[0]\n",
    "neg_index_val = np.where(y_val == 0)[0]"
   ]
  },
  {
   "cell_type": "code",
   "execution_count": 23,
   "metadata": {},
   "outputs": [
    {
     "name": "stdout",
     "output_type": "stream",
     "text": [
      "361418 92124\n"
     ]
    }
   ],
   "source": [
    "# how many new rows a I need?\n",
    "p = 0.174\n",
    "p2 = (1-p)/p\n",
    "new_train = int((len(train) - neg_index.shape[0])*p2 - neg_index.shape[0])\n",
    "new_val = int((len(val) - neg_index_val.shape[0])*p2 - neg_index_val.shape[0])\n",
    "print(new_train, new_val)"
   ]
  },
  {
   "cell_type": "code",
   "execution_count": 24,
   "metadata": {},
   "outputs": [],
   "source": [
    "train_sample = train.iloc[neg_index].sample(n = new_train, replace = True)\n",
    "val_sample = val.iloc[neg_index_val].sample(n = new_val, replace = True)"
   ]
  },
  {
   "cell_type": "code",
   "execution_count": 25,
   "metadata": {},
   "outputs": [],
   "source": [
    "train_balanced = pd.concat((train, train_sample.copy()))\n",
    "val_balanced = pd.concat((val, val_sample.copy()))"
   ]
  },
  {
   "cell_type": "code",
   "execution_count": 26,
   "metadata": {},
   "outputs": [],
   "source": [
    "train_balanced[\"random\"] = 1\n",
    "val_balanced[\"random\"] = 1\n",
    "features = train_balanced.columns[[6,7]]"
   ]
  },
  {
   "cell_type": "code",
   "execution_count": 27,
   "metadata": {},
   "outputs": [],
   "source": [
    "y_train = train_balanced[\"is_duplicate\"].values\n",
    "x_train = train_balanced[features].values\n",
    "y_val = val_balanced[\"is_duplicate\"].values\n",
    "x_val = val_balanced[features].values"
   ]
  },
  {
   "cell_type": "code",
   "execution_count": 28,
   "metadata": {},
   "outputs": [
    {
     "data": {
      "text/plain": [
       "Index(['JS', 'random'], dtype='object')"
      ]
     },
     "execution_count": 28,
     "metadata": {},
     "output_type": "execute_result"
    }
   ],
   "source": [
    "features"
   ]
  },
  {
   "cell_type": "markdown",
   "metadata": {},
   "source": [
    "## Training on one feature"
   ]
  },
  {
   "cell_type": "code",
   "execution_count": 31,
   "metadata": {},
   "outputs": [
    {
     "name": "stdout",
     "output_type": "stream",
     "text": [
      "[0]\ttrain-logloss:0.645403\tvalid-logloss:0.645358\n",
      "Multiple eval metrics have been passed: 'valid-logloss' will be used for early stopping.\n",
      "\n",
      "Will train until valid-logloss hasn't improved in 50 rounds.\n",
      "[50]\ttrain-logloss:0.374559\tvalid-logloss:0.373966\n",
      "[100]\ttrain-logloss:0.372122\tvalid-logloss:0.371706\n",
      "[150]\ttrain-logloss:0.371488\tvalid-logloss:0.371145\n",
      "[200]\ttrain-logloss:0.371303\tvalid-logloss:0.371002\n",
      "[250]\ttrain-logloss:0.37122\tvalid-logloss:0.370962\n",
      "[300]\ttrain-logloss:0.371182\tvalid-logloss:0.370934\n",
      "[350]\ttrain-logloss:0.371149\tvalid-logloss:0.370921\n"
     ]
    }
   ],
   "source": [
    "import xgboost as xgb\n",
    "\n",
    "xgb_pars = {\"min_child_weight\": 50, \"eta\": 0.05, \"max_depth\": 8,\n",
    "            \"subsample\": 0.8, \"silent\" : 1, \"nthread\": 4,\n",
    "            \"eval_metric\": \"logloss\", \"objective\": \"binary:logistic\"}\n",
    "\n",
    "d_train = xgb.DMatrix(x_train, label=y_train)\n",
    "d_val = xgb.DMatrix(x_val, label=y_val)\n",
    "\n",
    "watchlist = [(d_train, 'train'), (d_val, 'valid')]\n",
    "\n",
    "bst = xgb.train(xgb_pars, d_train, 400, watchlist, early_stopping_rounds=50, verbose_eval=50)"
   ]
  },
  {
   "cell_type": "markdown",
   "metadata": {},
   "source": [
    "## Creating Embedding features\n",
    "You can get Globe embedings from https://nlp.stanford.edu/projects/glove/"
   ]
  },
  {
   "cell_type": "code",
   "execution_count": 32,
   "metadata": {},
   "outputs": [],
   "source": [
    "globe_path = \"/data/yinterian/Glove/glove.6B.50d.txt\""
   ]
  },
  {
   "cell_type": "code",
   "execution_count": 33,
   "metadata": {},
   "outputs": [],
   "source": [
    "def load_word_embedings(file =\"/data/yinterian/Glove/glove.6B.50d.txt\"):\n",
    "    embeddings = {}\n",
    "    with open(file, 'r') as infile:\n",
    "        for line in infile:\n",
    "            values = line.split()\n",
    "            embeddings[values[0]] = np.asarray(values[1:], dtype='float32')\n",
    "    return embeddings"
   ]
  },
  {
   "cell_type": "code",
   "execution_count": 34,
   "metadata": {},
   "outputs": [],
   "source": [
    "embeddings = load_word_embedings()"
   ]
  },
  {
   "cell_type": "code",
   "execution_count": 35,
   "metadata": {},
   "outputs": [
    {
     "data": {
      "text/plain": [
       "400000"
      ]
     },
     "execution_count": 35,
     "metadata": {},
     "output_type": "execute_result"
    }
   ],
   "source": [
    "len(embeddings.keys())"
   ]
  },
  {
   "cell_type": "code",
   "execution_count": 36,
   "metadata": {},
   "outputs": [],
   "source": [
    "def sentence_features(s, embeddings=embeddings):\n",
    "    words = get_non_stopwords(s)\n",
    "    words = [w for w in words if w.isalpha() and w in embeddings]\n",
    "    if len(words) == 0:\n",
    "        return np.hstack([np.zeros(50), np.zeros(50), np.zeros(50)])\n",
    "    M = [embeddings[w] for w in words]\n",
    "    M = np.array(M)\n",
    "    v_mean = M.mean(axis=0)\n",
    "    v_min = M.min(axis=0)\n",
    "    v_max = M.max(axis=0)\n",
    "    return np.hstack([v_mean,v_min, v_max])"
   ]
  },
  {
   "cell_type": "code",
   "execution_count": 49,
   "metadata": {},
   "outputs": [],
   "source": [
    "def sentence_features_v2(s, embeddings=embeddings):\n",
    "    words = get_non_stopwords(s)\n",
    "    words = [w for w in words if w.isalpha() and w in embeddings]\n",
    "    if len(words) == 0:\n",
    "        return np.hstack([np.zeros(50)])\n",
    "    M = np.array([embeddings[w] for w in words])\n",
    "    return M.mean(axis=0)"
   ]
  },
  {
   "cell_type": "code",
   "execution_count": 37,
   "metadata": {},
   "outputs": [
    {
     "data": {
      "text/plain": [
       "(150,)"
      ]
     },
     "execution_count": 37,
     "metadata": {},
     "output_type": "execute_result"
    }
   ],
   "source": [
    "w = sentence_features(data.loc[0, \"question1\"])\n",
    "w.shape"
   ]
  },
  {
   "cell_type": "code",
   "execution_count": 38,
   "metadata": {},
   "outputs": [
    {
     "data": {
      "text/html": [
       "<div>\n",
       "<style scoped>\n",
       "    .dataframe tbody tr th:only-of-type {\n",
       "        vertical-align: middle;\n",
       "    }\n",
       "\n",
       "    .dataframe tbody tr th {\n",
       "        vertical-align: top;\n",
       "    }\n",
       "\n",
       "    .dataframe thead th {\n",
       "        text-align: right;\n",
       "    }\n",
       "</style>\n",
       "<table border=\"1\" class=\"dataframe\">\n",
       "  <thead>\n",
       "    <tr style=\"text-align: right;\">\n",
       "      <th></th>\n",
       "      <th>id</th>\n",
       "      <th>qid1</th>\n",
       "      <th>qid2</th>\n",
       "      <th>question1</th>\n",
       "      <th>question2</th>\n",
       "      <th>is_duplicate</th>\n",
       "      <th>JS</th>\n",
       "      <th>random</th>\n",
       "    </tr>\n",
       "  </thead>\n",
       "  <tbody>\n",
       "    <tr>\n",
       "      <th>83823</th>\n",
       "      <td>83823</td>\n",
       "      <td>141825</td>\n",
       "      <td>141826</td>\n",
       "      <td>How can I get rid of small mosquitos in kitche...</td>\n",
       "      <td>How can I get rid of tiny roaches in the kitch...</td>\n",
       "      <td>0</td>\n",
       "      <td>0.499999</td>\n",
       "      <td>1</td>\n",
       "    </tr>\n",
       "    <tr>\n",
       "      <th>145241</th>\n",
       "      <td>145241</td>\n",
       "      <td>86221</td>\n",
       "      <td>51226</td>\n",
       "      <td>What are the best books for UPSC ?</td>\n",
       "      <td>Which are the best books to prepare for IAS ex...</td>\n",
       "      <td>0</td>\n",
       "      <td>0.428571</td>\n",
       "      <td>1</td>\n",
       "    </tr>\n",
       "    <tr>\n",
       "      <th>238613</th>\n",
       "      <td>238613</td>\n",
       "      <td>350027</td>\n",
       "      <td>350028</td>\n",
       "      <td>Where can I get the second edition of Alan V ....</td>\n",
       "      <td>How can I get a free link of a book called ,  ...</td>\n",
       "      <td>0</td>\n",
       "      <td>0.200000</td>\n",
       "      <td>1</td>\n",
       "    </tr>\n",
       "    <tr>\n",
       "      <th>382628</th>\n",
       "      <td>382628</td>\n",
       "      <td>88337</td>\n",
       "      <td>356439</td>\n",
       "      <td>Do women really like big penises ?</td>\n",
       "      <td>Do women prefer circumference or length in pen...</td>\n",
       "      <td>0</td>\n",
       "      <td>0.200000</td>\n",
       "      <td>1</td>\n",
       "    </tr>\n",
       "    <tr>\n",
       "      <th>256286</th>\n",
       "      <td>256286</td>\n",
       "      <td>371362</td>\n",
       "      <td>371363</td>\n",
       "      <td>Is the Russian Army IRP the same as the Urban ...</td>\n",
       "      <td>Does anyone watch Fubo TV and do they provide ...</td>\n",
       "      <td>0</td>\n",
       "      <td>0.062500</td>\n",
       "      <td>1</td>\n",
       "    </tr>\n",
       "  </tbody>\n",
       "</table>\n",
       "</div>"
      ],
      "text/plain": [
       "            id    qid1    qid2  \\\n",
       "83823    83823  141825  141826   \n",
       "145241  145241   86221   51226   \n",
       "238613  238613  350027  350028   \n",
       "382628  382628   88337  356439   \n",
       "256286  256286  371362  371363   \n",
       "\n",
       "                                                question1  \\\n",
       "83823   How can I get rid of small mosquitos in kitche...   \n",
       "145241                What are the best books for UPSC ?    \n",
       "238613  Where can I get the second edition of Alan V ....   \n",
       "382628                Do women really like big penises ?    \n",
       "256286  Is the Russian Army IRP the same as the Urban ...   \n",
       "\n",
       "                                                question2  is_duplicate  \\\n",
       "83823   How can I get rid of tiny roaches in the kitch...             0   \n",
       "145241  Which are the best books to prepare for IAS ex...             0   \n",
       "238613  How can I get a free link of a book called ,  ...             0   \n",
       "382628  Do women prefer circumference or length in pen...             0   \n",
       "256286  Does anyone watch Fubo TV and do they provide ...             0   \n",
       "\n",
       "              JS  random  \n",
       "83823   0.499999       1  \n",
       "145241  0.428571       1  \n",
       "238613  0.200000       1  \n",
       "382628  0.200000       1  \n",
       "256286  0.062500       1  "
      ]
     },
     "execution_count": 38,
     "metadata": {},
     "output_type": "execute_result"
    }
   ],
   "source": [
    "train_balanced.head()"
   ]
  },
  {
   "cell_type": "code",
   "execution_count": 39,
   "metadata": {},
   "outputs": [],
   "source": [
    "# create sentence vectors for question1\n",
    "x_train_q1 = np.array([sentence_features_v2(x) for x in train_balanced[\"question1\"].values])\n",
    "x_valid_q1 = np.array([sentence_features_v2(x) for x in val_balanced[\"question1\"].values])"
   ]
  },
  {
   "cell_type": "code",
   "execution_count": 40,
   "metadata": {},
   "outputs": [],
   "source": [
    "x_train_q2 = np.array([sentence_features_v2(x) for x in train_balanced[\"question2\"].values])\n",
    "x_valid_q2 = np.array([sentence_features_v2(x) for x in val_balanced[\"question2\"].values])"
   ]
  },
  {
   "cell_type": "code",
   "execution_count": 41,
   "metadata": {},
   "outputs": [],
   "source": [
    "train_balanced[\"emb_dist\"] = np.linalg.norm(x_train_q1 - x_train_q2, axis=1) "
   ]
  },
  {
   "cell_type": "code",
   "execution_count": 42,
   "metadata": {},
   "outputs": [],
   "source": [
    "val_balanced[\"emb_dist\"] = np.linalg.norm(x_valid_q1 - x_valid_q2, axis=1) "
   ]
  },
  {
   "cell_type": "code",
   "execution_count": 43,
   "metadata": {},
   "outputs": [
    {
     "data": {
      "text/plain": [
       "Text(0.5,0,'Embedding Distance')"
      ]
     },
     "execution_count": 43,
     "metadata": {},
     "output_type": "execute_result"
    },
    {
     "data": {
      "image/png": "[encoded data removed]",
      "text/plain": [
       "<matplotlib.figure.Figure at 0x7ff19af275f8>"
      ]
     },
     "metadata": {},
     "output_type": "display_data"
    }
   ],
   "source": [
    "plt.figure(figsize=(15, 5))\n",
    "plt.hist(train_balanced.loc[train_balanced[\"is_duplicate\"] == 0, \"emb_dist\"], bins=30, normed=True, label='Not Duplicate')\n",
    "plt.hist(train_balanced.loc[train_balanced[\"is_duplicate\"] == 1, \"emb_dist\"], bins=30, normed=True, alpha=0.7, label='Duplicate')\n",
    "plt.legend()\n",
    "plt.title('Label distribution versus Embedding Distance', fontsize=15)\n",
    "plt.xlabel('Embedding Distance', fontsize=15)"
   ]
  },
  {
   "cell_type": "code",
   "execution_count": 53,
   "metadata": {},
   "outputs": [
    {
     "data": {
      "text/plain": [
       "Index(['random', 'emb_dist'], dtype='object')"
      ]
     },
     "execution_count": 53,
     "metadata": {},
     "output_type": "execute_result"
    }
   ],
   "source": [
    "features = train_balanced.columns[[7,8]]\n",
    "features"
   ]
  },
  {
   "cell_type": "code",
   "execution_count": 54,
   "metadata": {},
   "outputs": [],
   "source": [
    "y_train = train_balanced[\"is_duplicate\"].values\n",
    "x_train = train_balanced[features].values\n",
    "y_val = val_balanced[\"is_duplicate\"].values\n",
    "x_val = val_balanced[features].values"
   ]
  },
  {
   "cell_type": "code",
   "execution_count": 55,
   "metadata": {},
   "outputs": [
    {
     "name": "stdout",
     "output_type": "stream",
     "text": [
      "[0]\ttrain-logloss:0.669487\tvalid-logloss:0.669515\n",
      "Multiple eval metrics have been passed: 'valid-logloss' will be used for early stopping.\n",
      "\n",
      "Will train until valid-logloss hasn't improved in 50 rounds.\n",
      "[50]\ttrain-logloss:0.409801\tvalid-logloss:0.410984\n",
      "[100]\ttrain-logloss:0.404362\tvalid-logloss:0.406099\n",
      "[150]\ttrain-logloss:0.404049\tvalid-logloss:0.406046\n",
      "[200]\ttrain-logloss:0.403775\tvalid-logloss:0.406055\n",
      "Stopping. Best iteration:\n",
      "[167]\ttrain-logloss:0.40393\tvalid-logloss:0.406045\n",
      "\n"
     ]
    }
   ],
   "source": [
    "import xgboost as xgb\n",
    "\n",
    "xgb_pars = {\"min_child_weight\": 50, \"eta\": 0.05, \"max_depth\": 8,\n",
    "            \"subsample\": 0.8, \"silent\" : 1, \"nthread\": 4,\n",
    "            \"eval_metric\": \"logloss\", \"objective\": \"binary:logistic\"}\n",
    "\n",
    "d_train = xgb.DMatrix(x_train, label=y_train)\n",
    "d_val = xgb.DMatrix(x_val, label=y_val)\n",
    "\n",
    "watchlist = [(d_train, 'train'), (d_val, 'valid')]\n",
    "\n",
    "bst = xgb.train(xgb_pars, d_train, 400, watchlist, early_stopping_rounds=50, verbose_eval=50)"
   ]
  },
  {
   "cell_type": "code",
   "execution_count": 47,
   "metadata": {},
   "outputs": [],
   "source": [
    "x_train = x_train_q1 - x_train_q2\n",
    "x_val = x_valid_q1 - x_valid_q2"
   ]
  },
  {
   "cell_type": "code",
   "execution_count": 52,
   "metadata": {},
   "outputs": [
    {
     "name": "stdout",
     "output_type": "stream",
     "text": [
      "[0]\ttrain-logloss:0.669799\tvalid-logloss:0.670009\n",
      "Multiple eval metrics have been passed: 'valid-logloss' will be used for early stopping.\n",
      "\n",
      "Will train until valid-logloss hasn't improved in 50 rounds.\n",
      "[50]\ttrain-logloss:0.394836\tvalid-logloss:0.400198\n",
      "[100]\ttrain-logloss:0.374619\tvalid-logloss:0.383555\n",
      "[150]\ttrain-logloss:0.36476\tvalid-logloss:0.37659\n",
      "[200]\ttrain-logloss:0.357382\tvalid-logloss:0.371904\n",
      "[250]\ttrain-logloss:0.351516\tvalid-logloss:0.368446\n",
      "[300]\ttrain-logloss:0.346622\tvalid-logloss:0.365708\n",
      "[350]\ttrain-logloss:0.342451\tvalid-logloss:0.363378\n"
     ]
    }
   ],
   "source": [
    "d_train = xgb.DMatrix(x_train, label=y_train)\n",
    "d_val = xgb.DMatrix(x_val, label=y_val)\n",
    "\n",
    "xgb_pars = {\"min_child_weight\": 50, \"eta\": 0.05, \"max_depth\": 8,\n",
    "            \"subsample\": 0.8, \"silent\" : 1, \"colsample_bytree\": 0.3,\n",
    "            \"nthread\": 4,\n",
    "            \"eval_metric\": \"logloss\", \"objective\": \"binary:logistic\"}\n",
    "\n",
    "watchlist = [(d_train, 'train'), (d_val, 'valid')]\n",
    "\n",
    "bst = xgb.train(xgb_pars, d_train, 400, watchlist, early_stopping_rounds=50, verbose_eval=50)"
   ]
  },
  {
   "cell_type": "markdown",
   "metadata": {},
   "source": [
    "## References\n",
    "* https://www.kaggle.com/anokas/data-analysis-xgboost-starter-0-35460-lb\n",
    "* https://www.kaggle.com/abhishek/approaching-almost-any-nlp-problem-on-kaggle/\n",
    "* https://www.analyticsvidhya.com/blog/2016/02/complete-guide-parameter-tuning-gradient-boosting-gbm-python/"
   ]
  },
  {
   "cell_type": "code",
   "execution_count": null,
   "metadata": {},
   "outputs": [],
   "source": []
  }
 ],
 "metadata": {
  "kernelspec": {
   "display_name": "Python 3",
   "language": "python",
   "name": "python3"
  },
  "language_info": {
   "codemirror_mode": {
    "name": "ipython",
    "version": 3
   },
   "file_extension": ".py",
   "mimetype": "text/x-python",
   "name": "python",
   "nbconvert_exporter": "python",
   "pygments_lexer": "ipython3",
   "version": "3.6.4"
  }
 },
 "nbformat": 4,
 "nbformat_minor": 2
}
